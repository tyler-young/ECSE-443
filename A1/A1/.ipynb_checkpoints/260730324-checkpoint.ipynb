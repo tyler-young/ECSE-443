{
 "cells": [
  {
   "cell_type": "markdown",
   "metadata": {
    "deletable": false,
    "editable": false,
    "nbgrader": {
     "cell_type": "markdown",
     "checksum": "25d8df109ec31b6d6b6b8f9e49ca1532",
     "grade": false,
     "grade_id": "cell-414de207018f2037",
     "locked": true,
     "schema_version": 3,
     "solution": false,
     "task": false
    }
   },
   "source": [
    "<center><h1>ECSE 443: Introduction to Numerical Analysis in Electrical Engineering</center></h1>\n",
    "<center><h3>Assignment 1: _Linear least squares_</center></h3>\n",
    "<center><h3>Due: Monday, February 10<sup>th</sup>, 2020 at 11:59pm EST on on <a href='https://mycourses2.mcgill.ca/'>myCourses</a></center></h3>\n",
    "<center><h3>Final weight: 15%</center></h3>\n",
    "$\\newcommand{\\norm}[1]{\\left\\| #1 \\right\\|}$\n",
    "$\\newcommand{\\normsq}[1]{\\norm{#1}^2}$\n",
    "$\\newcommand{\\bsalpha}{\\boldsymbol{\\alpha}}$\n",
    "$\\newcommand{\\bfa}{\\mathbf{a}}$\n",
    "$\\newcommand{\\bfb}{\\mathbf{b}}$\n",
    "$\\newcommand{\\bfe}{\\mathbf{e}}$\n",
    "$\\newcommand{\\bfr}{\\mathbf{r}}$\n",
    "$\\newcommand{\\bfv}{\\mathbf{v}}$\n",
    "$\\newcommand{\\bfx}{\\mathbf{x}}$\n",
    "$\\newcommand{\\bfy}{\\mathbf{y}}$\n",
    "$\\newcommand{\\cond}{\\operatorname{cond}}$\n",
    "$\\newcommand{\\argmin}[1]{\\underset{#1}{\\operatorname{argmin}}}$"
   ]
  },
  {
   "cell_type": "markdown",
   "metadata": {
    "deletable": false,
    "editable": false,
    "nbgrader": {
     "cell_type": "markdown",
     "checksum": "ed5eda1fc192fe7f67bd4f49dc260dc5",
     "grade": false,
     "grade_id": "cell-555b282e49ce561d",
     "locked": true,
     "schema_version": 3,
     "solution": false,
     "task": false
    }
   },
   "source": [
    "# Assignment submission process\n",
    "\n",
    "Download and modify the `ipynb` notebook we provide on myCourses and submit your modified file, renamed according to your student ID, as\n",
    "\n",
    "<font color='red'>[YourStudentID].ipynb</font>\n",
    "\n",
    "For example, if your id is **234567890**, your submission filename should be **234567890.ipynb**.\n",
    "\n",
    "\n",
    "<div class=\"alert alert-warning\" role=\"alert\">\n",
    "     Note that every time you submit a new file, your previous submission will be overwritten.  <b>All submissions must be made using myCourses</b>. You can submit as many times as you like, but we will only grade the last submission.\n",
    "</div>\n",
    "\n",
    "## Late policy\n",
    "This assignment is to be completed individually. \n",
    "\n",
    "<div class=\"alert alert-danger\" role=\"alert\">\n",
    "     You will lose <b>5% per hour</b>. past the deadline, up to a maximum of -100%. \n",
    "</div>\n",
    "    \n",
    "## Python `import` statements\n",
    "\n",
    "We provide all import statements required to complete the assignment.\n",
    "\n",
    "<div class=\"alert alert-danger\" role=\"alert\">\n",
    "    You must not use any `<code>import</code>'s other than the ones we provide.\n",
    "    Doing so will result in a score of <b>zero (0%)</b>on the assignment.\n",
    "</div>"
   ]
  },
  {
   "cell_type": "markdown",
   "metadata": {
    "deletable": false,
    "editable": false,
    "nbgrader": {
     "cell_type": "markdown",
     "checksum": "fa4295929ae6509a6b287f7a84b5a556",
     "grade": false,
     "grade_id": "cell-d73e4dee77c5a44d",
     "locked": true,
     "schema_version": 3,
     "solution": false,
     "task": false
    }
   },
   "source": [
    "# Forward and backward substitution [20%]\n",
    "\n",
    "We will start by implementing the *forward* and *backward substitution* algorithms to solve lower and upper triangular linear systems of equations. These algorithms will also form the foundation for more complex algorithms, later on.\n",
    "\n",
    "<div class=\"alert alert-info\" role=\"alert\">\n",
    "    <b>Run</b> the following cell in the Jupyter Notebook to include the required modules.\n",
    "</div>"
   ]
  },
  {
   "cell_type": "code",
   "execution_count": 452,
   "metadata": {
    "deletable": false,
    "editable": false,
    "nbgrader": {
     "cell_type": "code",
     "checksum": "b24472534d31d74b64a96be624066edf",
     "grade": false,
     "grade_id": "cell-8b7c4dc78f085098",
     "locked": true,
     "schema_version": 3,
     "solution": false,
     "task": false
    }
   },
   "outputs": [],
   "source": [
    "from numpy import array, zeros, tril, triu, absolute"
   ]
  },
  {
   "cell_type": "markdown",
   "metadata": {
    "deletable": false,
    "editable": false,
    "nbgrader": {
     "cell_type": "markdown",
     "checksum": "f63c371d08bc35e5e4cb50b4831dc9bf",
     "grade": false,
     "grade_id": "cell-ae4502196caf56a0",
     "locked": true,
     "schema_version": 3,
     "solution": false,
     "task": false
    }
   },
   "source": [
    "## Forward substitution [10%]\n",
    "\n",
    "Forward substitution is the process of solving a linear system of equations $\\mathbf{L}\\bfx=\\bfb$ with a lower triangular coefficient matrix $\\mathbf{L}$. The formula below defines the elements $x_i$ of $\\mathbf{x}$ that are computed using forward substitution:\n",
    "$$\n",
    "x_{i} = \n",
    "\\begin{cases}\n",
    "    \\displaystyle\\frac{b_{1}}{L_{1,1}}  & \\quad \\text{if } i = 1,  \\\\\n",
    "    \\displaystyle\\frac{1}{L_{i,i}}\\left(b_{i} - \\sum\\limits_{j = 1}^{i-1} L_{i,j} x_{j}\\right) & \\quad \\text{ otherwise. } \n",
    "    \\end{cases}\n",
    "$$\n",
    "\n",
    "<div class=\"alert alert-info\" role=\"alert\"> \n",
    "    <b style=\"color:green;\">&#9745;</b> <b>Complete the forward substitution algorithm implementation</b> in the cell below:\n",
    "</div>"
   ]
  },
  {
   "cell_type": "code",
   "execution_count": 453,
   "metadata": {
    "deletable": false,
    "nbgrader": {
     "cell_type": "code",
     "checksum": "3f19e47bb4cad0ad6b46a48250ab7d05",
     "grade": false,
     "grade_id": "cell-c68b2024e79b8a5c",
     "locked": false,
     "schema_version": 3,
     "solution": true,
     "task": false
    }
   },
   "outputs": [],
   "source": [
    "def ForwardSubstitution(L, b):\n",
    "    \"\"\"\n",
    "    Perform forward substitution of to solve Lx = b, where L is a lower triangular matrix\n",
    "\n",
    "    Parameters: \n",
    "    L (np.array((n, n))): Left hand side (LHS) lower triangular matrix\n",
    "    b (np.array(n)): Right hand side (RHS) vector \n",
    "\n",
    "    Returns: \n",
    "    x np.array(n): Solution vector\n",
    "    \"\"\"\n",
    "    \n",
    "\n",
    "    # Save the dimensions of L\n",
    "    m, n = L.shape\n",
    "\n",
    "    # L must be square\n",
    "    if m != n:\n",
    "        raise Exception(\"Sorry, it's hip to be square!\")\n",
    "\n",
    "    # Initialize x\n",
    "    x = zeros(n)\n",
    "    \n",
    "    # Outer loop: loop over all rows, from left to right\n",
    "        # Set x[i] as b[i]\n",
    "        # Inner loop: loop over each column from left to diagonal\n",
    "            # Update x[i] \n",
    "        # divide by diagonal value to isolate x[i]\n",
    "    \n",
    "    # YOUR CODE HERE\n",
    "    \n",
    "    for i in range(m):\n",
    "        x[i] = b[i]\n",
    "        for j in range(i):\n",
    "            x[i]= x[i] - (L[i, j]*x[j])\n",
    "        x[i] = x[i]/L[i, i]    \n",
    "        \n",
    "    # raise NotImplementedError()\n",
    "    return x"
   ]
  },
  {
   "cell_type": "markdown",
   "metadata": {
    "deletable": false,
    "editable": false,
    "nbgrader": {
     "cell_type": "markdown",
     "checksum": "9e718993cea6cdc5e4c1632b60abbf04",
     "grade": false,
     "grade_id": "cell-8595fab85ad1bb7c",
     "locked": true,
     "schema_version": 3,
     "solution": false,
     "task": false
    }
   },
   "source": [
    "<div class=\"alert alert-info\" role=\"alert\">\n",
    "    <b>Run</b> the following cell to test your forward substitution solver.\n",
    "</div>"
   ]
  },
  {
   "cell_type": "code",
   "execution_count": 454,
   "metadata": {
    "deletable": false,
    "editable": false,
    "nbgrader": {
     "cell_type": "code",
     "checksum": "4076e59423e46bf80ad68c873521f8db",
     "grade": true,
     "grade_id": "cell-697fae05d3fa1db6",
     "locked": true,
     "points": 10,
     "schema_version": 3,
     "solution": false,
     "task": false
    }
   },
   "outputs": [
    {
     "name": "stdout",
     "output_type": "stream",
     "text": [
      "L =  [[  4   0   0]\n",
      " [ 12  37   0]\n",
      " [-16 -43  98]]\n",
      "b =  [1 2 3]\n",
      "x =  [ 0.25       -0.02702703  0.05956977]\n",
      "L.dot(x) =  [1. 2. 3.]\n",
      "You computed the correct result!\n"
     ]
    }
   ],
   "source": [
    "L = tril([[4,12,-16],[12,37,-43],[-16,-43,98]])\n",
    "b = array([1,2,3])         \n",
    "x = ForwardSubstitution(L, b)\n",
    "print('L = ', L)\n",
    "print('b = ', b)\n",
    "print('x = ', x)\n",
    "print('L.dot(x) = ', L.dot(x))\n",
    "\n",
    "try:\n",
    "    assert((absolute(L.dot(x) - b) < 1e-5).all())\n",
    "    print('You computed the correct result!')\n",
    "except:\n",
    "    raise Exception(\"If at first you don't succeed...\")"
   ]
  },
  {
   "cell_type": "markdown",
   "metadata": {
    "deletable": false,
    "editable": false,
    "nbgrader": {
     "cell_type": "markdown",
     "checksum": "7825e33ede4b3a9ee925ade0fd8e92df",
     "grade": false,
     "grade_id": "cell-ab5485bcdecefee7",
     "locked": true,
     "schema_version": 3,
     "solution": false,
     "task": false
    }
   },
   "source": [
    "## Backward substitution [10%]\n",
    "\n",
    "Backward substitution is the process of solving a linear system of equations $\\mathbf{U}\\bfx=\\bfb$ with an upper triangular coefficient matrix $\\mathbf{U}$. These equation similarly define the solution element $x_i$ of $\\mathbf{x}$ that you will compute using backward substitution:\n",
    "$$\n",
    "x_{i} = \n",
    "\\begin{cases}\n",
    "    \\displaystyle\\frac{b_{n}}{U_{n,n}}  & \\quad \\text{if } i = n,  \\\\\n",
    "    \\displaystyle\\frac{1}{U_{i,i}}\\left( b_{i} - \\displaystyle\\sum\\limits_{j = i+1}^{n} U_{i,j} x_{j} \\right) & \\quad \\text{otherwise. } \n",
    "    \\end{cases}\n",
    "$$\n",
    "\n",
    "\n",
    "<div class=\"alert alert-info\" role=\"alert\"> \n",
    "    <b style=\"color:green;\">&#9745;</b> <b>Complete the backward substitution algorithm implementation</b> in the cell below:\n",
    "</div>\n"
   ]
  },
  {
   "cell_type": "code",
   "execution_count": 455,
   "metadata": {
    "deletable": false,
    "nbgrader": {
     "cell_type": "code",
     "checksum": "82d5384b5e278d463272ba411635b88f",
     "grade": false,
     "grade_id": "cell-204641263f8a000c",
     "locked": false,
     "schema_version": 3,
     "solution": true,
     "task": false
    }
   },
   "outputs": [],
   "source": [
    "def BackwardSubstitution(U, b):\n",
    "    \"\"\"\n",
    "    Perform back substitution of to solve Ux=b where U is an upper triangular matrix\n",
    "\n",
    "    Parameters: \n",
    "    U (np.array((n, n))): LHS upper triangular matrix\n",
    "    b (np.array(n)): RHS vector \n",
    "\n",
    "    Returns: \n",
    "    x np.array(n): Solution vector\n",
    "    \"\"\"\n",
    "\n",
    "    # Save dimension of U\n",
    "    m, n = U.shape\n",
    "\n",
    "    # U must be square\n",
    "    if m != n:\n",
    "        raise Exception(\"Sorry, it's hip to be square\")\n",
    "\n",
    "    # Initialize x\n",
    "    x = zeros(n)\n",
    "    \n",
    "    # Outer loop: loop over all rows from bottom to top\n",
    "        # Set temporary variable as the current b[i]\n",
    "        # Inner loop: loop over each column from right to diagonal.\n",
    "            # Update temporary variable from the already known x[j] and U[i,j]\n",
    "        # divide by diagonal value to isolate x[i]\n",
    "    \n",
    "    # YOUR CODE HERE\n",
    "    \n",
    "    for i in range(m-1, -1, -1):\n",
    "        x[i] = b[i]\n",
    "        for j in range(m-1, i, -1): \n",
    "            x[i] -= (U[i, j]*x[j])\n",
    "        x[i] = x[i]/U[i, i]\n",
    "    \n",
    "    # raise NotImplementedError()\n",
    "    \n",
    "    return x"
   ]
  },
  {
   "cell_type": "markdown",
   "metadata": {
    "deletable": false,
    "editable": false,
    "nbgrader": {
     "cell_type": "markdown",
     "checksum": "ea2b71a4222b4b66907d70a8103d864c",
     "grade": false,
     "grade_id": "cell-c5f43669dc5f099c",
     "locked": true,
     "schema_version": 3,
     "solution": false,
     "task": false
    }
   },
   "source": [
    "<div class=\"alert alert-info\" role=\"alert\">\n",
    "    <b>Run</b> the following cell to test your backward substitution solver.\n",
    "</div>"
   ]
  },
  {
   "cell_type": "code",
   "execution_count": 456,
   "metadata": {
    "deletable": false,
    "editable": false,
    "nbgrader": {
     "cell_type": "code",
     "checksum": "8f5b09d10099b23f6592b8898dd248d0",
     "grade": true,
     "grade_id": "cell-50657966f7fd49ca",
     "locked": true,
     "points": 10,
     "schema_version": 3,
     "solution": false,
     "task": false
    }
   },
   "outputs": [
    {
     "name": "stdout",
     "output_type": "stream",
     "text": [
      "U =  [[  4.  12. -16.]\n",
      " [  0.  37. -43.]\n",
      " [  0.   0.  98.]]\n",
      "b =  [1. 2. 3.]\n",
      "x =  [0.10355764 0.08963045 0.03061224]\n",
      "U.dot(x) =  [1. 2. 3.]\n",
      "You're on a roll!\n"
     ]
    }
   ],
   "source": [
    "U = triu([[4.,12.,-16.],[12.,37.,-43.],[-16.,-43.,98.]])\n",
    "b = array([1.,2.,3.])        \n",
    "x = BackwardSubstitution(U, b)\n",
    "print('U = ', U)\n",
    "print('b = ', b)\n",
    "print('x = ', x)\n",
    "print('U.dot(x) = ', U.dot(x))\n",
    "\n",
    "try:\n",
    "    assert((absolute(U.dot(x) - b) < 1e-5).all())\n",
    "    print('You\\'re on a roll!')\n",
    "except:\n",
    "    raise Exception(\"Better luck, next time...\")"
   ]
  },
  {
   "cell_type": "markdown",
   "metadata": {
    "deletable": false,
    "editable": false,
    "nbgrader": {
     "cell_type": "markdown",
     "checksum": "3f06e52eb4f8ce2ca399e500e5e93446",
     "grade": false,
     "grade_id": "cell-f09ee020009dd4e1",
     "locked": true,
     "schema_version": 3,
     "solution": false,
     "task": false
    }
   },
   "source": [
    "# Polynomial fitting via linear least squares [50%]\n",
    "\n",
    "We will implement our own *linear least squares* solver using two different approaches, testing them on a *polynomial fitting* problem.\n",
    "Given an overdetermined matrix $\\mathbf{A}$ of dimension $m \\times n$, where $m > n$, and a  $m \\times 1$ column vector $\\bfb$, we want to find the $n \\times 1$ column vector $\\bfx$ that best fits the linear equation $\\mathbf{A}\\bfx \\approx \\bfb$ in the least-squares sense.\n",
    "\n",
    "We write $\\mathbf{A}\\bfx \\approx b$ instead of $\\mathbf{A}\\bfx = \\bfb$ because the true linear system is not generally satisfiable. \n",
    "Specifically, our fit $\\bfx$ will minimize the squared 2-norm of the residual vector $\\bfr = \\mathbf{A}\\bfx - \\bfb$, i.e.: \n",
    "$$\\argmin{\\bfx}\\normsq{\\mathbf{A}\\bfx - \\bfb}~.$$\n",
    "\n",
    "![An example least-squares fit of a higher-order polynomial.](polyfit.png)\n",
    "\n",
    "<div class=\"alert alert-info\" role=\"alert\">\n",
    "    <b>Run</b> the following cell to include the required modules.\n",
    "</div>\n"
   ]
  },
  {
   "cell_type": "code",
   "execution_count": 457,
   "metadata": {
    "deletable": false,
    "editable": false,
    "nbgrader": {
     "cell_type": "code",
     "checksum": "3b1fd6464d45f97cb9bf2949d2c3c2e5",
     "grade": false,
     "grade_id": "cell-d68fafd7245f5d9e",
     "locked": true,
     "schema_version": 3,
     "solution": false,
     "task": false
    }
   },
   "outputs": [],
   "source": [
    "from numpy import array, linspace, identity, copy, dot, zeros, zeros_like, sqrt, outer, polyval, poly1d, absolute\n",
    "from numpy.random import random\n",
    "from numpy.linalg import cond, norm\n",
    "import matplotlib.pyplot as plt"
   ]
  },
  {
   "cell_type": "markdown",
   "metadata": {
    "deletable": false,
    "editable": false,
    "nbgrader": {
     "cell_type": "markdown",
     "checksum": "50a9855e1c2407d58d34725e7f54a0c1",
     "grade": false,
     "grade_id": "cell-4333c51aace94451",
     "locked": true,
     "schema_version": 3,
     "solution": false,
     "task": false
    }
   },
   "source": [
    "## Learning objectives\n",
    "The goals of this assignment component are for you to:\n",
    "1. implement a Cholesky decomposition and apply it to the linear least squares solution expressed using the *normal equations*;\n",
    "2. implement a QR decomposition and apply it to the linear least squares solution expressed using the *normal equations*;\n",
    "3. understand when using each of these methods is preferrable to the other; and,\n",
    "4. to solve a overdetermined polynomial fitting problem using linear least squares.\n",
    "\n",
    "\n"
   ]
  },
  {
   "cell_type": "markdown",
   "metadata": {
    "deletable": false,
    "editable": false,
    "nbgrader": {
     "cell_type": "markdown",
     "checksum": "142f87a9c0309670fa3de5fc17ccff62",
     "grade": false,
     "grade_id": "cell-7d5d028703d1cf44",
     "locked": true,
     "schema_version": 3,
     "solution": false,
     "task": false
    }
   },
   "source": [
    "## Solving Normal Equations using Cholesky"
   ]
  },
  {
   "cell_type": "markdown",
   "metadata": {
    "deletable": false,
    "editable": false,
    "nbgrader": {
     "cell_type": "markdown",
     "checksum": "4a8538c997588f29df384328bcab44d0",
     "grade": false,
     "grade_id": "cell-d64b16e723acd453",
     "locked": true,
     "schema_version": 3,
     "solution": false,
     "task": false
    }
   },
   "source": [
    "### Cholesky decomposition [10%]\n",
    "Suppose that $\\mathbf{M}$ is a square matrix of dimension $n \\times n$ satisfying the following properties:\n",
    "1. $\\mathbf{M}$ is symetric, e.g., $\\mathbf{M} = \\mathbf{M}^\\intercal$, and\n",
    "2. $\\mathbf{M}$ is positive definite, e.g., $\\bfx \\mathbf{M} \\bfx^\\intercal > 0$ for all column vectors $\\bfx$ of dimension $1 \\times n$ such that $\\norm{\\bfx} \\neq 0$.\n",
    "\n",
    "Then, $\\mathbf{M}$ admits the unique Cholesky decomposition \n",
    "$$\\mathbf{M}= \\mathbf{L} \\mathbf{L}^\\intercal~,$$ \n",
    "where $\\mathbf{L}$ is a lower triangular matrix with real and positive diagonal entries.\n",
    "\n",
    "After some algebraic manipulation, we can arrive at:\n",
    "$$\n",
    "L_{i,j} = \n",
    "\\begin{cases}\n",
    "    \\sqrt{M_{j,j} - \\sum\\limits_{k=1}^{j-1}L_{j,k}^2} & \\quad \\text{if } i = j,  \\\\\n",
    "    \\frac{1}{L_{j,j}}\\left(M_{i,j} - \\sum\\limits_{k=1}^{j-1}L_{i,k}L_{j,k}\\right) & \\quad \\text{if } i > j, \\\\\n",
    "     0 & \\quad \\text{otherwise.} \n",
    "    \\end{cases}\n",
    "$$\n",
    "\n",
    "We see that we can compute the $L_{i, j}$ entry of $\\mathbf{L}$ if we know the entries to the left and above. The *Cholesky-Banachiewicz algorithm* starts from the upper left corner of the matrix $\\mathbf{L}$ and proceeds to calculate its elements row by row.\n",
    "\n",
    "![Access pattern (white) and writing pattern (yellow) for the Cholesky-Banachiewicz algorithm on a $5\\times 5$ matrix.](https://upload.wikimedia.org/wikipedia/commons/b/be/Chol.gif)\n",
    "\n",
    "\n",
    "<div class=\"alert alert-info\" role=\"alert\"> \n",
    "    <b style=\"color:green;\">&#9745;</b> <b>Complete the implementation of the Cholesky decomposition</b>  in the cell below.\n",
    "    To avoid having the algorithm stop midway through the decomposition due to numerical precision, compute the diagonal entries as\n",
    "    $$\n",
    "    L_{j,j} = \\sqrt{\\left|M_{j,j} - \\sum\\limits_{k=1}^{j-1}L_{j,k}^2\\right|}\n",
    "    $$\n",
    "    instead of as in the original formula.\n",
    "</div>\n",
    "\n",
    "\n"
   ]
  },
  {
   "cell_type": "code",
   "execution_count": 458,
   "metadata": {
    "deletable": false,
    "nbgrader": {
     "cell_type": "code",
     "checksum": "00f36b7dca5c48d9ee2b87bc798ea863",
     "grade": false,
     "grade_id": "cell-21fddf8aaaf7efa5",
     "locked": false,
     "schema_version": 3,
     "solution": true,
     "task": false
    }
   },
   "outputs": [],
   "source": [
    "def CholeskyDecomposition(A):\n",
    "    \"\"\" \n",
    "    Performs a Cholesky decomposition of a square matrix A = LL.T. A must be symmetric and positive definite. Here, L is a lower triangular matrix\n",
    "\n",
    "    Parameters: \n",
    "    A (np.array((n, n))): Matrix that we want to decompose \n",
    "\n",
    "    Returns: \n",
    "    L (np.array((n, n))): Lower triangular matrix L\n",
    "    \"\"\"\n",
    "\n",
    "    # Save dimension of A for easier use\n",
    "    m, n = A.shape\n",
    "    \n",
    "    # A must be square\n",
    "    if m != n:\n",
    "        raise Exception(\"Sorry, it's hip to be square!\")\n",
    "\n",
    "    # Create zero matrix for L\n",
    "    L = zeros(A.shape)\n",
    "    \n",
    "    # Iterate over rows, from top to bottom\n",
    "        # Iterate over columns, from left to diagonal.\n",
    "            # Compute the sum\n",
    "            # Check if at a diagonal entry\n",
    "               # update diagonal entries and don't forget to take the absolute value prior to the sqrt\n",
    "            # otherwise\n",
    "                # deal with lower diagonal entries\n",
    "    \n",
    "    # YOUR CODE HERE\n",
    "    \n",
    "    for i in range(m):\n",
    "        for j in range(i + 1):\n",
    "            tempSum = 0;\n",
    "            tempSum2 = 0;\n",
    "            \n",
    "            if(i == j):\n",
    "                for k in range(j):\n",
    "                    tempSum += L[j][k] * L[j][k]\n",
    "                L[j][j] = sqrt(abs(A[j][j] - tempSum))\n",
    "                \n",
    "            elif(i > j):\n",
    "                for k in range(j):\n",
    "                    tempSum2 += (L[i][k] * L[j][k])\n",
    "                if(L[j][j] > 0):\n",
    "                    L[i][j] = (A[i][j] - tempSum2)/(L[j][j])\n",
    "            else:\n",
    "                L[j][j] = 0;\n",
    "    \n",
    "    # raise NotImplementedError()\n",
    "    return L\n"
   ]
  },
  {
   "cell_type": "markdown",
   "metadata": {
    "deletable": false,
    "editable": false,
    "nbgrader": {
     "cell_type": "markdown",
     "checksum": "ef1cc0b13cadc4e4bd36f3a441adaf56",
     "grade": false,
     "grade_id": "cell-95daccb62ef9fc75",
     "locked": true,
     "schema_version": 3,
     "solution": false,
     "task": false
    }
   },
   "source": [
    "<div class=\"alert alert-info\" role=\"alert\">\n",
    "    <b>Run</b> the following cell to test your Cholesky decomposition.\n",
    "</div>"
   ]
  },
  {
   "cell_type": "code",
   "execution_count": 459,
   "metadata": {
    "deletable": false,
    "editable": false,
    "nbgrader": {
     "cell_type": "code",
     "checksum": "9263240b8ff0b01b64b4811b60aaef48",
     "grade": true,
     "grade_id": "cell-7bb875ca52d10557",
     "locked": true,
     "points": 10,
     "schema_version": 3,
     "solution": false,
     "task": false
    }
   },
   "outputs": [
    {
     "name": "stdout",
     "output_type": "stream",
     "text": [
      "A =  [[  4.  12. -16.]\n",
      " [ 12.  37. -43.]\n",
      " [-16. -43.  98.]]\n",
      "L =  [[ 2.  0.  0.]\n",
      " [ 6.  1.  0.]\n",
      " [-8.  5.  3.]]\n",
      "L.dot(L.T) =  [[  4.  12. -16.]\n",
      " [ 12.  37. -43.]\n",
      " [-16. -43.  98.]]\n",
      "High five! You and Cholesky are buddies, now.\n"
     ]
    }
   ],
   "source": [
    "A = array([[4.,12.,-16.],[12.,37.,-43.],[-16.,-43.,98.]])\n",
    "L = CholeskyDecomposition(A)\n",
    "print('A = ', A)\n",
    "print('L = ', L)\n",
    "print('L.dot(L.T) = ', L.dot(L.T))\n",
    "\n",
    "try:\n",
    "    assert((absolute(L.dot(L.T) - A) < 1e-5).all())\n",
    "    print('High five! You and Cholesky are buddies, now.')\n",
    "except:\n",
    "    raise Exception(\"Uh oh... somebody made a boo-boo...\")"
   ]
  },
  {
   "cell_type": "markdown",
   "metadata": {
    "deletable": false,
    "editable": false,
    "nbgrader": {
     "cell_type": "markdown",
     "checksum": "5a59094141b3164b625fd723db520e49",
     "grade": false,
     "grade_id": "cell-410ff1f67c47e373",
     "locked": true,
     "schema_version": 3,
     "solution": false,
     "task": false
    }
   },
   "source": [
    "### Applying Cholesky to the Normal Equations [5%]\n",
    "\n",
    "It just so happens that the normal matrix $\\mathbf{X}^\\intercal \\mathbf{X}$ is symmetric and positive definite. As such, we can use a Cholesky decomposition to solve the normal equations. Substituting the Cholesky decomposition $\\mathbf{X}^\\intercal \\mathbf{X} = \\mathbf{L} \\mathbf{L}^\\intercal$ into the normal equations, we arrive at:\n",
    "\n",
    "$$\\mathbf{L} \\mathbf{L}^\\intercal \\bfx = \\mathbf{X}^\\intercal  \\bfb$$\n",
    "\n",
    "We can reduce the full linear solve into two (much simple) triangular solves: first, we solve the  lower triangular system $\\mathbf{L}\\bfy = \\mathbf{X}^{\\intercal}\\bfb$ with forward substitution; then, after obtaining this intermediate solution $\\bfy$, we can solve the upper triangular system $\\mathbf{L}^{\\intercal}\\bfx = \\bfy$ using backward substitution.\n",
    "\n",
    "\n",
    "<div class=\"alert alert-info\" role=\"alert\"> \n",
    "    <b style=\"color:green;\">&#9745;</b> <b>Complete the implementation of the linear least squares solve using a Cholesky decomposition</b> in the cell below:\n",
    "</div>"
   ]
  },
  {
   "cell_type": "code",
   "execution_count": 460,
   "metadata": {
    "deletable": false,
    "nbgrader": {
     "cell_type": "code",
     "checksum": "48bb20822a6442e0f07ffdf4b3f312ef",
     "grade": false,
     "grade_id": "cell-87d304f64ad13b23",
     "locked": false,
     "schema_version": 3,
     "solution": true,
     "task": false
    }
   },
   "outputs": [],
   "source": [
    "def LinLeastSquareChol(A, b):\n",
    "    \"\"\"\n",
    "    Perform a linear least square solve to find the best fit solution of the overdetermined linear system Ax = B using a Cholesky decomposition of the normal equations.\n",
    "\n",
    "    Parameters: \n",
    "    A (np.array(m, n)): LHS matrix of the least squares problem, with n < m\n",
    "    b (np.array(m)): RHS vector of the least squares problem\n",
    "\n",
    "    Returns: \n",
    "    x np.array(n): Solution of the least squares problem\n",
    "    \"\"\"\n",
    "    \n",
    "    # Save dimension of A\n",
    "    m, n = A.shape\n",
    "\n",
    "    # A must be overdetermined\n",
    "    if m <= n:\n",
    "        raise Exception(\"Sorry, your matrix isn't tall enough...\")\n",
    "    if m != b.size:\n",
    "        raise Exception(\"Sorry, A and b don't have the same number of rows...\")\n",
    "    \n",
    "    # Form the normal matrix\n",
    "    ATA = A.T.dot(A)\n",
    "    \n",
    "    # Steps\n",
    "    # 1. Performing Cholesky decomposition of the normal matrix\n",
    "    # 2. Solve with forward substitution\n",
    "    # 3. Solve with backward substitution\n",
    "    \n",
    "    # YOUR CODE HERE\n",
    "\n",
    "    L = CholeskyDecomposition(ATA)\n",
    "    XTb = A.T.dot(b)\n",
    "    y = ForwardSubstitution(L,XTb)\n",
    "    L_t = L.T\n",
    "    x = BackwardSubstitution(L_t, y) \n",
    "    \n",
    "    # raise NotImplementedError()\n",
    "    \n",
    "    return x"
   ]
  },
  {
   "cell_type": "markdown",
   "metadata": {
    "deletable": false,
    "editable": false,
    "nbgrader": {
     "cell_type": "markdown",
     "checksum": "23dd0ed56c2b0b58cbb974de47536423",
     "grade": false,
     "grade_id": "cell-b77e6985a509c8f3",
     "locked": true,
     "schema_version": 3,
     "solution": false,
     "task": false
    }
   },
   "source": [
    "<div class=\"alert alert-info\" role=\"alert\">\n",
    "    <b>Run</b>  the following cell to test your Cholesky linear least squares solver.\n",
    "</div>"
   ]
  },
  {
   "cell_type": "code",
   "execution_count": 461,
   "metadata": {
    "deletable": false,
    "editable": false,
    "nbgrader": {
     "cell_type": "code",
     "checksum": "c546eb0584d22faf240d0f48d04a3022",
     "grade": true,
     "grade_id": "cell-6d0da3a8ed699b80",
     "locked": true,
     "points": 5,
     "schema_version": 3,
     "solution": false,
     "task": false
    }
   },
   "outputs": [
    {
     "name": "stdout",
     "output_type": "stream",
     "text": [
      "A =  [[ 1.  2.  4.]\n",
      " [ 1.  3.  9.]\n",
      " [ 1.  4. 16.]\n",
      " [ 1.  5. 25.]\n",
      " [ 1.  6. 36.]]\n",
      "b =  [ 4.  9. 16. 25. 36.]\n",
      "x =  [ 1.13156443e-13 -6.40376025e-14  1.00000000e+00]\n",
      "A.dot(x) =  [ 4.  9. 16. 25. 36.]\n",
      "Bingo!\n"
     ]
    }
   ],
   "source": [
    "A = array([[1.,2.,4.],[1.,3.,9.],[1.,4.,16.], [1.,5.,25.], [1.,6.,36.]])\n",
    "b = array([4.,9.,16.,25.,36.])\n",
    "x = LinLeastSquareChol(A, b)\n",
    "print('A = ', A)\n",
    "print('b = ', b)\n",
    "print('x = ', x)\n",
    "print('A.dot(x) = ', A.dot(x))\n",
    "\n",
    "try:\n",
    "    assert((absolute(A.dot(x) - b) < 1e-5).all())\n",
    "    print('Bingo!')\n",
    "except:\n",
    "    raise Exception(\"Your least squares fit isn't least squares enough....\")"
   ]
  },
  {
   "cell_type": "markdown",
   "metadata": {
    "deletable": false,
    "editable": false,
    "nbgrader": {
     "cell_type": "markdown",
     "checksum": "940541932c34b5b9abb12f5b30bb4784",
     "grade": false,
     "grade_id": "cell-ce0ad9c0e1fb4721",
     "locked": true,
     "schema_version": 3,
     "solution": false,
     "task": false
    }
   },
   "source": [
    "## QR Decomposition\n",
    "\n",
    "Let $\\mathbf{A}$ be an overdetermined matrix of dimension $m \\times n$ with $m > n$. We seek a decomposition of the form\n",
    "$$ \\mathbf{A} = \\mathbf{Q} \\begin{bmatrix}\n",
    "\\mathbf{R} \\\\ 0\n",
    "\\end{bmatrix}$$ \n",
    "where $\\mathbf{Q}$ is a symmetric orthogonal matrix -- meaning that $\\mathbf{Q}^{-1} = \\mathbf{Q}^\\intercal$ -- of dimension $m \\times m$, $\\mathbf{R}$ is lower triangular matrix of dimension $n \\times n$ and $0$ is a zero matrix of size $m-n \\times n$. If $\\mathbf{A}$ has full column rank, then $\\mathbf{R}$ is nonsingular.\n",
    "\n",
    "There are many approaches to computing $\\mathbf{Q}$ and $\\mathbf{R}$, and we will rely on Householder transformations in our implementation.\n",
    "\n",
    "### Householder transformations [10%]\n",
    "\n",
    "Let $\\bfv$ be a nonzero vector of dimension $d \\times 1$. Then we define the a Householder transformation $\\mathbf{H}$ along $\\bfv$ as the matrix \n",
    "$$\n",
    "\\mathbf{H} = \\mathbf{I} - 2 \\frac{\\bfv \\bfv^\\intercal}{\\bfv^\\intercal \\bfv}\n",
    "$$\n",
    "\n",
    "When performing QR decomposition, we are interested in finding vectors $\\bfv$ such that\n",
    "their associated Householder matrix transforms a vector $\\bsalpha$ into:\n",
    "$$\n",
    "\\mathbf{H}\\bsalpha = \\pm\\norm{\\bsalpha} \\bfe_1\n",
    "$$\n",
    "where $\\bfe_1 = [1, 0, \\dots, 0 ]$. Later, we will create such $\\mathbf{H}$ iteratively from the columns of a matrix, rendering it upper triangular. After some algebraic manipulation and numerical manipulations to avoid floating point cancellation, we arrive at a valid choice for $\\bfv$ as\n",
    "$$\n",
    "\\bfv_\\alpha = \\begin{cases}\n",
    "\\bsalpha - \\norm{\\bsalpha} \\bfe_1, \\quad\\text{ if } \\alpha_0 < 0 \\\\\n",
    "\\bsalpha + \\norm{\\bsalpha} \\bfe_1, \\quad\\text{ otherwise.}  \n",
    "\\end{cases}\n",
    "$$\n",
    "\n",
    "\n",
    "\n",
    "<div class=\"alert alert-info\" role=\"alert\"> \n",
    "    <b style=\"color:green;\">&#9745;</b> <b> Complete the implementation of the Householder transformation matrix construction along $\\bfv_\\alpha$</b> in the cell below:\n",
    "</div>\n"
   ]
  },
  {
   "cell_type": "code",
   "execution_count": 462,
   "metadata": {
    "deletable": false,
    "nbgrader": {
     "cell_type": "code",
     "checksum": "2fd76601a5f984b2a2d9a619a68c2d10",
     "grade": false,
     "grade_id": "cell-e7fdaf9a2c74bf2f",
     "locked": false,
     "schema_version": 3,
     "solution": true,
     "task": false
    }
   },
   "outputs": [],
   "source": [
    "def Householder(alpha):\n",
    "    \"\"\" \n",
    "    Constructs and returns a Householder matrix for vector alpha using the v_alpha formula\n",
    "    \n",
    "    Parameters: \n",
    "    alpha (np.array(m)): right vector of the least squares problem\n",
    "\n",
    "    Returns: \n",
    "    H np.array((m, m)): Resulting Householder transformation matrix \n",
    "    \"\"\"\n",
    "    \n",
    "    # Initialize H\n",
    "    H = identity(alpha.size)\n",
    "    \n",
    "    # YOUR CODE HERE\n",
    "    e1 = zeros(alpha.size)\n",
    "    e1[0] = 1\n",
    "\n",
    "    \n",
    "    v = zeros(alpha.size)\n",
    "    \n",
    "    if(alpha[0] < 0):\n",
    "        v = alpha - norm(alpha)*e1\n",
    "    else:\n",
    "        v = alpha + norm(alpha)*e1\n",
    "    \n",
    "    v = v.reshape((alpha.size, 1))\n",
    "    H = H - (2*v.dot(v.T)/(v.T.dot(v)))\n",
    "        \n",
    "    # raise NotImplementedError()\n",
    "    \n",
    "    return H\n"
   ]
  },
  {
   "cell_type": "markdown",
   "metadata": {
    "deletable": false,
    "editable": false,
    "nbgrader": {
     "cell_type": "markdown",
     "checksum": "28bb03d075f274a0c4913fb790e64352",
     "grade": false,
     "grade_id": "cell-7aa6ba777be1cffd",
     "locked": true,
     "schema_version": 3,
     "solution": false,
     "task": false
    }
   },
   "source": [
    "<div class=\"alert alert-info\" role=\"alert\">\n",
    "    <b>Run</b>  the following cell to test your Householder transformation matrix implementation.\n",
    "</div>"
   ]
  },
  {
   "cell_type": "code",
   "execution_count": 463,
   "metadata": {
    "deletable": false,
    "editable": false,
    "nbgrader": {
     "cell_type": "code",
     "checksum": "593292604935a62be22c4aade2f932e6",
     "grade": true,
     "grade_id": "cell-169d6bfedb455242",
     "locked": true,
     "points": 10,
     "schema_version": 3,
     "solution": false,
     "task": false
    }
   },
   "outputs": [
    {
     "name": "stdout",
     "output_type": "stream",
     "text": [
      "alpha =  [1. 2. 3. 4.]\n",
      "alphae1 =  [5.47722558 0.         0.         0.        ]\n",
      "H =  [[-0.18257419 -0.36514837 -0.54772256 -0.73029674]\n",
      " [-0.36514837  0.88725161 -0.16912258 -0.22549678]\n",
      " [-0.54772256 -0.16912258  0.74631613 -0.33824516]\n",
      " [-0.73029674 -0.22549678 -0.33824516  0.54900645]]\n",
      "H.dot(alpha) =  [-5.47722558e+00  2.22044605e-16  2.22044605e-16  4.44089210e-16]\n",
      "Your Householder is built on a solid foundation!\n"
     ]
    }
   ],
   "source": [
    "alpha = array([1.,2.,3.,4.])\n",
    "alphae1 = norm(alpha)*array([1.,0.,0.,0.])\n",
    "H = Householder(alpha)\n",
    "print('alpha = ', alpha)\n",
    "print('alphae1 = ', alphae1)\n",
    "print('H = ', H)\n",
    "print('H.dot(alpha) = ', H.dot(alpha))\n",
    "\n",
    "try:\n",
    "    assert((absolute(absolute(H.dot(alpha)) - absolute(alphae1)) < 1e-5).all())\n",
    "    print('Your Householder is built on a solid foundation!')\n",
    "except:\n",
    "    raise Exception(\"Householder? Nope... more like Housedropper.\")"
   ]
  },
  {
   "cell_type": "markdown",
   "metadata": {
    "deletable": false,
    "editable": false,
    "nbgrader": {
     "cell_type": "markdown",
     "checksum": "98da908bb053240a418ad402dc5a6349",
     "grade": false,
     "grade_id": "cell-faa3e17ac553bbcd",
     "locked": true,
     "schema_version": 3,
     "solution": false,
     "task": false
    }
   },
   "source": [
    "### QR Decomposition using Householder Reflections [15%]\n",
    "\n",
    "Using Householder transformations, we can successively introduce zeros -- column by column -- below the diagonal of a matrix $\\mathbf{A}$, eventually reducing it to upper triangular form. \n",
    "Each Householder transformation must be applied to the remaining unreduced portion of the matrix. This process yields a decomposition of the form:\n",
    "$$ \\mathbf{H}_n \\cdots \\mathbf{H}_1 \\mathbf{A} = \\begin{bmatrix}\n",
    "\\mathbf{R} \\\\ 0\n",
    "\\end{bmatrix}$$\n",
    "where\n",
    "$$\n",
    "\\mathbf{H}_i = \n",
    "\\begin{bmatrix} \\mathbf{I}_{(n-i) \\times (n-i)} & 0 \\\\ \n",
    "0 & \\mathbf{H}(\\mathbf{\\alpha}_i) \n",
    "\\end{bmatrix}\n",
    "$$\n",
    "where $\\mathbf{\\alpha}_i$ is the vector determined from the $i$-th column of $\\mathbf{H}_{i-1}\\dots \\mathbf{H}_1 \\mathbf{A}$ restricted to the lower triangular part, and $\\mathbf{H}(\\mathbf{\\alpha}_i)$ is the Householder transformation obtained using your `Householder` routine.\n",
    "\n",
    "The QR decomposition can then be computed as $\\mathbf{R} = \\mathbf{H}_n \\cdots \\mathbf{H}_1 \\mathbf{A}$ and $\\mathbf{Q} = \\mathbf{I}_{m\\times m} \\mathbf{H}_1^\\intercal \\cdots \\mathbf{H}_n^\\intercal$\n",
    "\n",
    "<div class=\"alert alert-info\" role=\"alert\"> \n",
    "    <b style=\"color:green;\">&#9745;</b> <b> Complete the implementation of the QR decomposition using Householder reflections</b> in the cell below:\n",
    "</div>\n",
    "\n",
    "<div class=\"alert alert-success\" role=\"alert\"> \n",
    "    At iteration $i$, $\\mathbf{H}_i$ should be built using <code>R[i:, i]</code> as $\\mathbf{\\alpha}_i$\n",
    "</div>"
   ]
  },
  {
   "cell_type": "code",
   "execution_count": 464,
   "metadata": {
    "deletable": false,
    "nbgrader": {
     "cell_type": "code",
     "checksum": "4965a5fd775b5f5bbdff1ea6f4a412bc",
     "grade": false,
     "grade_id": "cell-1d941dfbe587c8ee",
     "locked": false,
     "schema_version": 3,
     "solution": true,
     "task": false
    }
   },
   "outputs": [],
   "source": [
    "def QRDecomposition(A):\n",
    "    \"\"\"\n",
    "    Compute a QR decomposition of matrix A as A = Q.dot(R) using Householder reflections. \n",
    "    Here, Q is a symmetric orthogonal matrix, R is an upper triangular matrix.\n",
    "    Note that R can be rectangular with its lower part padded with 0s.\n",
    "\n",
    "    Parameters: \n",
    "    A (np.array((m, n))): Rectangular matrix we wish to decmopose, of dimension m x n with n < m that we want\n",
    "\n",
    "    Returns: \n",
    "    (Q,R) tuple(np.array((m, m)),np.array((m, n))): return the tuple (Q, R) where Q is an orthogonal matrix and R is a rectangular matrix such that the top is upper triangular and its bottom is padded with 0s\n",
    "    \"\"\"\n",
    "\n",
    "    # Save dimension of A\n",
    "    m, n = A.shape\n",
    "\n",
    "    # A must be overdetermined\n",
    "    if m <= n:\n",
    "        raise Exception(\"Sorry, you must be at least this tall to enter the ride...\")\n",
    "        \n",
    "    # Initialize orthogonal matrix Q and upper triangular matrix R from A.\n",
    "    Q = identity(m)\n",
    "    \n",
    "    # Initialize upper triangular matrix R as a copy of A\n",
    "    # you will be able to use the updated R at every iteration to access\n",
    "    # R = H_{i-1} ... H_1 A\n",
    "    R = copy(A)\n",
    "    \n",
    "    # Hint: Should fit in less than 10 lines of code\n",
    "    # Loop over all columns of A to fill the lower part with 0s\n",
    "        # Compute H_i\n",
    "        # Update Q and R\n",
    "    \n",
    "    # YOUR CODE HERE\n",
    "    \n",
    "    for i in range(n):          \n",
    "        H_i = identity(m)\n",
    "        H_alpha = Householder(R[i:, i])\n",
    "        H_i[i:, i:] = H_alpha     \n",
    "        R = H_i.dot(R)\n",
    "        Q = Q.dot(H_i.T) \n",
    "                   \n",
    "    #raise NotImplementedError()\n",
    "    \n",
    "    return (Q, R)\n"
   ]
  },
  {
   "cell_type": "markdown",
   "metadata": {
    "deletable": false,
    "editable": false,
    "nbgrader": {
     "cell_type": "markdown",
     "checksum": "dc6b10da32035c45c315b9e181e5ca68",
     "grade": false,
     "grade_id": "cell-4bc338ae0a361f83",
     "locked": true,
     "schema_version": 3,
     "solution": false,
     "task": false
    }
   },
   "source": [
    "<div class=\"alert alert-info\" role=\"alert\">\n",
    "    <b>Run</b>  the following cell to test your QR decomposition.\n",
    "</div>"
   ]
  },
  {
   "cell_type": "code",
   "execution_count": 465,
   "metadata": {
    "deletable": false,
    "editable": false,
    "nbgrader": {
     "cell_type": "code",
     "checksum": "346d44205b02c537411319a18324cbce",
     "grade": true,
     "grade_id": "cell-8f7381e5a9d4d984",
     "locked": true,
     "points": 15,
     "schema_version": 3,
     "solution": false,
     "task": false
    }
   },
   "outputs": [
    {
     "name": "stdout",
     "output_type": "stream",
     "text": [
      "A =  [[ 1.  2.  4.]\n",
      " [ 1.  3.  9.]\n",
      " [ 1.  4. 16.]\n",
      " [ 1.  5. 25.]\n",
      " [ 1.  6. 36.]]\n",
      "Q =  [[-4.47213595e-01 -6.32455532e-01  5.34522484e-01 -2.57609084e-02\n",
      "  -3.37078759e-01]\n",
      " [-4.47213595e-01 -3.16227766e-01 -2.67261242e-01  2.80918686e-01\n",
      "   7.41387969e-01]\n",
      " [-4.47213595e-01  8.80961356e-17 -5.34522484e-01 -6.88190608e-01\n",
      "  -2.01691352e-01]\n",
      " [-4.47213595e-01  3.16227766e-01 -2.67261242e-01  6.36668791e-01\n",
      "  -4.72466167e-01]\n",
      " [-4.47213595e-01  6.32455532e-01  5.34522484e-01 -2.03635961e-01\n",
      "   2.69848309e-01]]\n",
      "R =  [[-2.23606798e+00 -8.94427191e+00 -4.02492236e+01]\n",
      " [ 1.08188422e-16  3.16227766e+00  2.52982213e+01]\n",
      " [-2.42002951e-18 -1.74298722e-16  3.74165739e+00]\n",
      " [-1.46944419e-17  9.46331779e-17 -1.14623649e-16]\n",
      " [ 5.20629412e-17  3.15141346e-16 -4.10795404e-18]]\n",
      "Q.dot(R) =  [[ 1.  2.  4.]\n",
      " [ 1.  3.  9.]\n",
      " [ 1.  4. 16.]\n",
      " [ 1.  5. 25.]\n",
      " [ 1.  6. 36.]]\n",
      "QR stands for Quit-working-on-this-question-you-already-got-it-Right.\n"
     ]
    }
   ],
   "source": [
    "A = array([[1.,2.,4.],[1.,3.,9.],[1.,4.,16.], [1.,5.,25.], [1.,6.,36.]])\n",
    "Q, R = QRDecomposition(A)\n",
    "print('A = ', A)\n",
    "print('Q = ', Q)\n",
    "print('R = ', R)\n",
    "print('Q.dot(R) = ',Q.dot(R))\n",
    "\n",
    "try:\n",
    "    assert((absolute(Q.dot(R) - A) < 1e-5).all())\n",
    "    print('QR stands for Quit-working-on-this-question-you-already-got-it-Right.')\n",
    "except:\n",
    "    raise Exception(\"Sorry, please try again.\")"
   ]
  },
  {
   "cell_type": "markdown",
   "metadata": {
    "deletable": false,
    "editable": false,
    "nbgrader": {
     "cell_type": "markdown",
     "checksum": "c1d03fcacf831f92e82e226fe4108d46",
     "grade": false,
     "grade_id": "cell-c7f4eabe1d5fbf3e",
     "locked": true,
     "schema_version": 3,
     "solution": false,
     "task": false
    }
   },
   "source": [
    "### Solving Linear Least Squares using QR [5%]\n",
    "\n",
    "First observe that an orthogonal transformation $\\mathbf{Q}$ preserves the 2-norm of any vector $\\bfr$, i.e., $\\normsq{\\mathbf{Q}\\bfr} = \\normsq{\\bfr}$. \n",
    "\n",
    "In the case of least-squares formulations,\n",
    "$$\n",
    "\\begin{align}\n",
    "\\normsq{\\mathbf{A}\\bfx - \\bfb} & = \\normsq{\\mathbf{Q}^\\intercal (\\mathbf{A}\\bfx - \\bfb)} \\\\ \n",
    "& = \\normsq{\\mathbf{Q}^\\intercal \\mathbf{A}\\bfx - \\mathbf{Q}^\\intercal\\bfb}  \\\\ \n",
    "& = \\normsq{ \\mathbf{Q}^\\intercal \\mathbf{Q} \\begin{bmatrix}\n",
    "\\mathbf{R} \\\\ 0\n",
    "\\end{bmatrix}\\bfx - \\mathbf{Q}^\\intercal\\bfb} \\\\\n",
    "& = \\normsq{ \\begin{bmatrix}\n",
    "\\mathbf{R} \\\\ 0\n",
    "\\end{bmatrix}\\bfx - \\mathbf{Q}^\\intercal\\bfb}~.\n",
    "\\end{align}\n",
    "$$\n",
    "Morever, if we form the partition $\\mathbf{Q} = \\begin{bmatrix}\\mathbf{Q}_1 & \\mathbf{Q}_2\\end{bmatrix}$, where $\\mathbf{Q}_1$ is the matrix formed from the first $n$ columnn of $\\mathbf{Q}$ and $\\mathbf{Q}_2$ the last $m-n$ columns, we have:\n",
    "$$\n",
    "\\begin{align}\n",
    "\\normsq{\\mathbf{A}\\bfx - \\bfb} & =\\normsq{\\begin{bmatrix}\n",
    "\\mathbf{R} \\\\ 0\n",
    "\\end{bmatrix}\n",
    "\\bfx -\n",
    "\\begin{bmatrix}\n",
    "\\mathbf{Q}_1^{\\intercal} \\\\ \\mathbf{Q}_2^{\\intercal}\n",
    "\\end{bmatrix}\n",
    "\\bfb} \\\\\n",
    "& = \n",
    "\\normsq{\\begin{bmatrix}\n",
    "\\mathbf{R} \\bfx -  \\mathbf{Q}_1^{\\intercal}\\bfb \\\\ \n",
    "-\\mathbf{Q}_2^{\\intercal} \\bfb\n",
    "\\end{bmatrix}} \\\\\n",
    "& =\n",
    "\\normsq{\\mathbf{A}\\bfx - \\bfb} \\\\\n",
    "& = \\normsq{\n",
    "\\mathbf{R} \\bfx -  \\mathbf{Q}_1^{\\intercal}\\bfb}  +\\normsq{\\mathbf{Q}_2^{\\intercal} \\bfb}\n",
    "\\end{align}\n",
    "$$\n",
    "\n",
    "Since $\\normsq{\\mathbf{Q}_2^{\\intercal} \\bfb}$ is independent of $\\bfx$, we can conclude that\n",
    "$$\n",
    "\\argmin{\\bfx}\\normsq{\\mathbf{A}\\bfx - \\bfb}\n",
    "= \\argmin{\\bfx}\\normsq{\n",
    "\\mathbf{R} \\bfx -  \\mathbf{Q}_1^{\\intercal}\\bfb}\n",
    "$$\n",
    "Assuming that $\\mathbf{A}$ has full column rank, so that $\\mathbf{R}$ is nonsingular, we find the solution as that of the reduced square upper triangular system (using backward substitution):\n",
    "$$\\mathbf{R}\\bfx = \\mathbf{Q}_1^{\\intercal}\\bfb~.$$\n",
    "\n",
    "\n",
    "<div class=\"alert alert-info\" role=\"alert\"> \n",
    "    <b style=\"color:green;\">&#9745;</b> <b> Complete the implementation of the linear least squares method using QR decomposition</b> in the cell below:\n",
    "</div>\n"
   ]
  },
  {
   "cell_type": "code",
   "execution_count": 466,
   "metadata": {
    "deletable": false,
    "nbgrader": {
     "cell_type": "code",
     "checksum": "0bd89ec17599bb7914253ad98053a48b",
     "grade": false,
     "grade_id": "cell-61489370c19ef9e9",
     "locked": false,
     "schema_version": 3,
     "solution": true,
     "task": false
    }
   },
   "outputs": [],
   "source": [
    "def LinLeastSquareQR(A, b):\n",
    "    \"\"\"\n",
    "    Perform linear least squares to find the best fit solution of the overdetermined linear system Ax = B using QR decomposition.\n",
    "\n",
    "    Parameters: \n",
    "    A (np.array(m, n)): LHS matrix of the least squares problem, with n < m\n",
    "    b (np.array(m)): RHS vector of the least squares problem\n",
    "\n",
    "    Returns: \n",
    "    x np.array(n): Solution of the least squares problem\n",
    "    \"\"\"\n",
    "\n",
    "    # Save dimension of A\n",
    "    m, n = A.shape\n",
    "\n",
    "    # A must be overdetermined\n",
    "    if m <= n:\n",
    "        raise Exception(\"Sorry, m must be greater than n\")\n",
    "    if m != b.size:\n",
    "        raise Exception(\"Double check your dimensions, buddy...\")\n",
    "\n",
    "    # Perform a QR decomposition of A\n",
    "    # Form the reduced term Q_1.T b\n",
    "    # Solve the reduced system with backward substitution\n",
    "    # Don't forget that the lower part of R is filled with zeros\n",
    "    \n",
    "    # YOUR CODE HERE\n",
    "    \n",
    "    Q, R = QRDecomposition(A);\n",
    "    Q_1Tb = Q.T.dot(b)\n",
    "    R.resize(n,n)\n",
    "    x = BackwardSubstitution(R, Q_1Tb)\n",
    "    \n",
    "    # raise NotImplementedError()\n",
    "    \n",
    "    return x"
   ]
  },
  {
   "cell_type": "markdown",
   "metadata": {
    "deletable": false,
    "editable": false,
    "nbgrader": {
     "cell_type": "markdown",
     "checksum": "9cd0534782aef1c880de6de4b17e5452",
     "grade": false,
     "grade_id": "cell-8f2dbe8057ca52dc",
     "locked": true,
     "schema_version": 3,
     "solution": false,
     "task": false
    }
   },
   "source": [
    "<div class=\"alert alert-info\" role=\"alert\">\n",
    "    <b>Run</b>  the following cell to test your QR linear least squares solver.\n",
    "</div>"
   ]
  },
  {
   "cell_type": "code",
   "execution_count": 467,
   "metadata": {
    "deletable": false,
    "editable": false,
    "nbgrader": {
     "cell_type": "code",
     "checksum": "df48430a1732d098b2adb18dea840836",
     "grade": true,
     "grade_id": "cell-ec64cd9038174d86",
     "locked": true,
     "points": 5,
     "schema_version": 3,
     "solution": false,
     "task": false
    }
   },
   "outputs": [
    {
     "name": "stdout",
     "output_type": "stream",
     "text": [
      "A =  [[ 1.  2.  4.]\n",
      " [ 1.  3.  9.]\n",
      " [ 1.  4. 16.]\n",
      " [ 1.  5. 25.]\n",
      " [ 1.  6. 36.]]\n",
      "b =  [ 4.  9. 16. 25. 36.]\n",
      "x =  [ 1.68850724e-14 -8.98773368e-15  1.00000000e+00]\n",
      "A.dot(x) =  [ 4.  9. 16. 25. 36.]\n",
      "Everything's coming together: linear least-squares systems tremble at the sight of your solver!\n"
     ]
    }
   ],
   "source": [
    "A = array([[1.,2.,4.],[1.,3.,9.],[1.,4.,16.], [1.,5.,25.], [1.,6.,36.]])\n",
    "b = array([4.,9.,16.,25.,36.])\n",
    "x = LinLeastSquareQR(A, b)\n",
    "print('A = ', A)\n",
    "print('b = ', b)\n",
    "print('x = ', x)\n",
    "print('A.dot(x) = ', A.dot(x))\n",
    "\n",
    "try:\n",
    "    assert((absolute(A.dot(x) - b) < 1e-5).all())\n",
    "    print('Everything\\'s coming together: linear least-squares systems tremble at the sight of your solver!')\n",
    "except:\n",
    "    raise Exception(\"You win some, you lose some...\")"
   ]
  },
  {
   "cell_type": "markdown",
   "metadata": {
    "deletable": false,
    "editable": false,
    "nbgrader": {
     "cell_type": "markdown",
     "checksum": "aa8e0431307ba9fcfa6ec7e52c680279",
     "grade": false,
     "grade_id": "cell-84305e03dfe85fe9",
     "locked": true,
     "schema_version": 3,
     "solution": false,
     "task": false
    }
   },
   "source": [
    "## Polynomial fitting [5%]\n",
    "\n",
    "We will test our least-squares solvers on a polynomial fitting problem. Given $m$ data points $(t_i, y_i)$, with $i \\in \\{1,2,\\dots,m\\}$, we want to find the best fit polynomial of degree $n-1$ with coefficients $\\bfx = [x_1,\\dots, x_n]$:\n",
    "$$\n",
    "p_{n-1}(t, \\bfx) = \\displaystyle\\sum\\limits_{j=1}^{n} x_j t^{j-1}~.$$\n",
    "that fit our data best. \n",
    "\n",
    "<!-- By best fit, we mean that we want to find coefficients $\\bfx$ such that we satisfy the quadratic minimization promlem:\n",
    "$$\n",
    "\\argmin{\\bfx }\\displaystyle\\sum\\limits_{i=0}^{m-1}\\left(p_{n-1}(t_i, \\bfx) - y_i\\right)^2\n",
    "$$\n",
    "We can see with a little linear algebra that -->\n",
    "\n",
    "This is equivalent to solving the least squares problem\n",
    "$$\n",
    "\\mathbf{A}\\bfx := \n",
    "\\begin{bmatrix}\n",
    "1 & t_{1} & t_{1}^2 & \\dots & t_{1}^{n-1} \\\\\n",
    "1 & t_{2} & t_{2}^2 & \\dots & t_{2}^{n-1} \\\\\n",
    "\\vdots & \\vdots &  \\vdots & \\ddots & \\vdots\\\\\n",
    "1 & t_{m} & t_{m}^2 & \\dots & t_{m}^{n-1} \\\\\n",
    "\\end{bmatrix}\n",
    "\\begin{bmatrix}\n",
    "x_1 \\\\\n",
    "x_2 \\\\\n",
    "\\vdots \\\\\n",
    "x_{n}\n",
    "\\end{bmatrix}\n",
    "\\approx\n",
    "\\begin{bmatrix}\n",
    "y_1 \\\\\n",
    "y_2 \\\\\n",
    "\\vdots \\\\\n",
    "y_{m}\n",
    "\\end{bmatrix}\n",
    ":= \\bfb\n",
    "$$\n",
    "\n",
    "<div class=\"alert alert-info\" role=\"alert\"> \n",
    "    <b style=\"color:green;\">&#9745;</b> <b>Complete the implementation of a function that builds and return the matrix $\\mathbf{A}$ and $\\bfb$</b> in the cell below:\n",
    "</div>\n"
   ]
  },
  {
   "cell_type": "code",
   "execution_count": 468,
   "metadata": {
    "deletable": false,
    "nbgrader": {
     "cell_type": "code",
     "checksum": "7863fc97914428976b1bb16c075abc2d",
     "grade": false,
     "grade_id": "cell-e53efcfc416126b8",
     "locked": false,
     "schema_version": 3,
     "solution": true,
     "task": false
    }
   },
   "outputs": [],
   "source": [
    "def PolynomialSystem(m, n, ti, yi):\n",
    "    \"\"\" \n",
    "    Build the matrix A from data (Vandermonde matrix) and b\n",
    "    \n",
    "    Parameters: \n",
    "    m (int): number of data points (t,y)\n",
    "    m (int): m-1 is the degree of the polynomial \n",
    "    ti (np.array(m)): vector containing values where we have function evaluations\n",
    "    yi (np.array(m)): vector containing the function evaluations at ti\n",
    "\n",
    "    Returns: \n",
    "    A, b (tuple(np.array(m,n), np.array(m))): A and b\n",
    "    \"\"\"\n",
    "    \n",
    "    # Initialize A and b\n",
    "    A = zeros((m, n))\n",
    "    b = zeros(m)\n",
    "    \n",
    "    # Must be overdetermined\n",
    "    if m < n:\n",
    "        raise Exception(\"Sorry, must have more points than the degree of the polynomial\")\n",
    "    \n",
    "    # YOUR CODE HERE\n",
    "    \n",
    "    b = yi\n",
    "    \n",
    "    for i in range(n):\n",
    "        A[0:, i] = pow(ti, i)\n",
    "    \n",
    "    # raise NotImplementedError()\n",
    "    \n",
    "    return (A, b)"
   ]
  },
  {
   "cell_type": "markdown",
   "metadata": {
    "deletable": false,
    "editable": false,
    "nbgrader": {
     "cell_type": "markdown",
     "checksum": "1573732175222eb3cf16ef9e1b6ece38",
     "grade": false,
     "grade_id": "cell-409d2dd3f957994b",
     "locked": true,
     "schema_version": 3,
     "solution": false,
     "task": false
    }
   },
   "source": [
    "<div class=\"alert alert-info\" role=\"alert\">\n",
    "    <b>Run</b> the following cell to test your polynomial system construction.\n",
    "</div>"
   ]
  },
  {
   "cell_type": "code",
   "execution_count": 469,
   "metadata": {
    "deletable": false,
    "editable": false,
    "nbgrader": {
     "cell_type": "code",
     "checksum": "95f027101370c50e9b53ebac80e10ca3",
     "grade": true,
     "grade_id": "cell-4249592a6fb6178a",
     "locked": true,
     "points": 5,
     "schema_version": 3,
     "solution": false,
     "task": false
    },
    "scrolled": true
   },
   "outputs": [
    {
     "name": "stdout",
     "output_type": "stream",
     "text": [
      "ti =  [2. 3. 4. 5. 6.]\n",
      "yi =  [ 4.  9. 16. 25. 36.]\n",
      "Atest =  [[ 1.  2.  4.]\n",
      " [ 1.  3.  9.]\n",
      " [ 1.  4. 16.]\n",
      " [ 1.  5. 25.]\n",
      " [ 1.  6. 36.]]\n",
      "btest =  [ 4.  9. 16. 25. 36.]\n",
      "A =  [[ 1.  2.  4.]\n",
      " [ 1.  3.  9.]\n",
      " [ 1.  4. 16.]\n",
      " [ 1.  5. 25.]\n",
      " [ 1.  6. 36.]]\n",
      "b =  [ 4.  9. 16. 25. 36.]\n",
      "Nice matrix!\n",
      "Right hand side: check!\n"
     ]
    }
   ],
   "source": [
    "ti = array([2.,3.,4.,5.,6.])\n",
    "yi = array([4.,9.,16.,25.,36.])\n",
    "Atest = array([[1.,2.,4.],[1.,3.,9.],[1.,4.,16.], [1.,5.,25.], [1.,6.,36.]])\n",
    "btest = array([4.,9.,16.,25.,36.])\n",
    "A,b = PolynomialSystem(5, 3, ti, yi)\n",
    "print('ti = ', ti)\n",
    "print('yi = ', yi)\n",
    "print('Atest = ', Atest)\n",
    "print('btest = ', btest)\n",
    "print('A = ', A)\n",
    "print('b = ', b)\n",
    "\n",
    "try:\n",
    "    assert((absolute(Atest - A) < 1e-5).all())\n",
    "    print('Nice matrix!')\n",
    "except:\n",
    "    raise Exception(\"This is not the matrix you are looking for...\")\n",
    "\n",
    "try:\n",
    "    assert((absolute(btest - b) < 1e-5).all())\n",
    "    print('Right hand side: check!')\n",
    "except:\n",
    "    raise Exception(\"Sorry, your vector is borked...\")"
   ]
  },
  {
   "cell_type": "markdown",
   "metadata": {
    "deletable": false,
    "editable": false,
    "nbgrader": {
     "cell_type": "markdown",
     "checksum": "b971cde217541fdbe05f1d65ca966e38",
     "grade": false,
     "grade_id": "cell-dba1e33081ee2181",
     "locked": true,
     "schema_version": 3,
     "solution": false,
     "task": false
    }
   },
   "source": [
    "The matrix $\\mathbf{A}$ that we just formed is a special type of matrix called the *Vandermonde* matrix. This matrix has full column rank $n$ if at least $n$ of the $m$ $t_i$'s are distinct.\n",
    "<div class=\"alert alert-info\" role=\"alert\">\n",
    "    <b>Run</b> the following cell to generate random polynomial data to test your solvers on\n",
    "</div>"
   ]
  },
  {
   "cell_type": "code",
   "execution_count": 470,
   "metadata": {
    "deletable": false,
    "editable": false,
    "nbgrader": {
     "cell_type": "code",
     "checksum": "dccacdcc867a9d3da544fdc842c95a9f",
     "grade": false,
     "grade_id": "cell-2a059cc45a33d7ec",
     "locked": true,
     "schema_version": 3,
     "solution": false,
     "task": false
    }
   },
   "outputs": [
    {
     "name": "stdout",
     "output_type": "stream",
     "text": [
      "Condition number of matrix A: 151932247663352.47\n",
      "Condition number of matrix A^T A: 1.2835987241321587e+19\n"
     ]
    },
    {
     "data": {
      "image/png": "[encoded data removed]",
      "text/plain": [
       "<Figure size 432x288 with 2 Axes>"
      ]
     },
     "metadata": {
      "needs_background": "light"
     },
     "output_type": "display_data"
    }
   ],
   "source": [
    "m = 80\n",
    "n = 20\n",
    "eps = 2\n",
    "\n",
    "t = array([i/(m - 1) for i in range(m)])\n",
    "x = array([1 for i in  range(n)])\n",
    "p = poly1d(x[::-1])\n",
    "yp = array([p(t) for t in t])\n",
    "y = array([y+ eps*(2*random() - 1) for y in yp])\n",
    "\n",
    "A, b = PolynomialSystem(m, n, t, y)\n",
    "\n",
    "print(\"Condition number of matrix A: {}\".format(cond(A)))\n",
    "print(\"Condition number of matrix A^T A: {}\".format(cond(A.T.dot(A))))\n",
    "\n",
    "plt.figure(1)  \n",
    "plt.imshow(A, origin='upper', cmap='plasma', vmin=0, vmax=1)\n",
    "plt.colorbar()\n",
    "plt.axis('off')\n",
    "plt.title('A')\n",
    "plt.show()"
   ]
  },
  {
   "cell_type": "markdown",
   "metadata": {
    "colab_type": "text",
    "deletable": false,
    "editable": false,
    "id": "I5ffKf1rBPv-",
    "nbgrader": {
     "cell_type": "markdown",
     "checksum": "62fdce60bc2be7d67aa8e78cc1676c69",
     "grade": false,
     "grade_id": "cell-f62a37e5c8113e99",
     "locked": true,
     "schema_version": 3,
     "solution": false,
     "task": false
    }
   },
   "source": [
    "<div class=\"alert alert-info\" role=\"alert\">\n",
    "    <b>Run</b> the following cell to benchmark the execution times and stability of your QR and Cholesky solvers. QR should be slower than Cholesky, however QR should be more numerically stable for ill-conditioned systems.\n",
    "</div>"
   ]
  },
  {
   "cell_type": "code",
   "execution_count": 471,
   "metadata": {
    "colab": {
     "base_uri": "https://localhost:8080/",
     "height": 316
    },
    "colab_type": "code",
    "deletable": false,
    "editable": false,
    "executionInfo": {
     "elapsed": 13719,
     "status": "ok",
     "timestamp": 1578688469022,
     "user": {
      "displayName": "Damien Rioux Lavoie",
      "photoUrl": "",
      "userId": "12634939714392419161"
     },
     "user_tz": 300
    },
    "id": "fYg1Bt7birb5",
    "nbgrader": {
     "cell_type": "code",
     "checksum": "f91fdfc79e8f8acacc89eabc9a6d81f4",
     "grade": false,
     "grade_id": "cell-38cb175ca350e47d",
     "locked": true,
     "schema_version": 3,
     "solution": false,
     "task": false
    },
    "outputId": "4d5c834f-6f79-4e4b-e5de-d2485ba14153"
   },
   "outputs": [
    {
     "name": "stdout",
     "output_type": "stream",
     "text": [
      "2.61 ms ± 371 µs per loop (mean ± std. dev. of 7 runs, 50 loops each)\n",
      "2.27 ms ± 281 µs per loop (mean ± std. dev. of 7 runs, 50 loops each)\n"
     ]
    },
    {
     "data": {
      "image/png": "[encoded data removed]",
      "text/plain": [
       "<Figure size 432x288 with 1 Axes>"
      ]
     },
     "metadata": {
      "needs_background": "light"
     },
     "output_type": "display_data"
    }
   ],
   "source": [
    "QRtime = %timeit -n 50 -o LinLeastSquareQR(A, b)\n",
    "Choltime = %timeit -n 50 -o LinLeastSquareChol(A, b)\n",
    "\n",
    "xQR = LinLeastSquareQR(A, b)\n",
    "xChol = LinLeastSquareChol(A, b)\n",
    "\n",
    "plt.figure(2)\n",
    "plt.scatter(t, y)\n",
    "plt.plot(t, yp, label='Reference polynomialof order ${n-1}$')\n",
    "plt.plot(t, polyval(xQR[::-1], t),'-', label='QR fit, best time: {:.5f}'.format(QRtime.best))\n",
    "plt.plot(t, polyval(xChol[::-1], t), '--', label='Chol fit, best time: {:.5f}'.format(Choltime.best))\n",
    "plt.legend(loc='center', bbox_to_anchor=(1.3, 0.9))\n",
    "plt.xlabel(\"time\")\n",
    "plt.ylabel(\"value\")\n",
    "plt.title(\"Plot fitted polynomial\")\n",
    "plt.show()"
   ]
  },
  {
   "cell_type": "markdown",
   "metadata": {
    "deletable": false,
    "editable": false,
    "nbgrader": {
     "cell_type": "markdown",
     "checksum": "4639291606afb6debb514a3af640e3d8",
     "grade": false,
     "grade_id": "cell-6a5d68233414aea9",
     "locked": true,
     "schema_version": 3,
     "solution": false,
     "task": false
    }
   },
   "source": [
    "# Image Reconstruction using Linear Least Squares [30%]\n",
    "\n",
    "We will implement a *regularized linear least squares* solver to generate a noise free image from a noisy estimate of the image's pixel values and their gradient values. Such a problem arises in many applications, including computational photography and computer graphics.\n",
    "\n",
    "![Combining noisy image estimates (left) with noisy image gradients (middle two) to obtain a noise-free image (right).](http://beltegeuse.s3-website-ap-northeast-1.amazonaws.com/research/2018_GradientCourse/img/teaser.jpg)\n",
    "\n",
    "<div class=\"alert alert-info\" role=\"alert\">\n",
    "    We will only consider grayscale images/gradients.\n",
    "</div>\n",
    "<div class=\"alert alert-info\" role=\"alert\">\n",
    "    <b>Run</b>  the following cell to include the modules for this task.\n",
    "</div>"
   ]
  },
  {
   "cell_type": "code",
   "execution_count": 472,
   "metadata": {
    "deletable": false,
    "editable": false,
    "nbgrader": {
     "cell_type": "code",
     "checksum": "594aa2c257e7882d8b2c9afd6591fcff",
     "grade": false,
     "grade_id": "cell-c03420c710117fa7",
     "locked": true,
     "schema_version": 3,
     "solution": false,
     "task": false
    }
   },
   "outputs": [
    {
     "ename": "ModuleNotFoundError",
     "evalue": "No module named 'scipy'",
     "output_type": "error",
     "traceback": [
      "\u001b[1;31m---------------------------------------------------------------------------\u001b[0m",
      "\u001b[1;31mModuleNotFoundError\u001b[0m                       Traceback (most recent call last)",
      "\u001b[1;32m<ipython-input-472-2c6bd3ba3739>\u001b[0m in \u001b[0;36m<module>\u001b[1;34m\u001b[0m\n\u001b[0;32m      1\u001b[0m \u001b[1;32mfrom\u001b[0m \u001b[0mnumpy\u001b[0m \u001b[1;32mimport\u001b[0m \u001b[0marray\u001b[0m\u001b[1;33m,\u001b[0m \u001b[0mzeros\u001b[0m\u001b[1;33m,\u001b[0m \u001b[0mzeros_like\u001b[0m\u001b[1;33m,\u001b[0m\u001b[0mreshape\u001b[0m\u001b[1;33m,\u001b[0m \u001b[0mloadtxt\u001b[0m\u001b[1;33m,\u001b[0m \u001b[0mabsolute\u001b[0m\u001b[1;33m,\u001b[0m \u001b[0msqrt\u001b[0m\u001b[1;33m,\u001b[0m \u001b[0msum\u001b[0m\u001b[1;33m,\u001b[0m \u001b[0mclip\u001b[0m\u001b[1;33m,\u001b[0m \u001b[0mabsolute\u001b[0m\u001b[1;33m\u001b[0m\u001b[1;33m\u001b[0m\u001b[0m\n\u001b[0;32m      2\u001b[0m \u001b[1;32mimport\u001b[0m \u001b[0mmatplotlib\u001b[0m\u001b[1;33m.\u001b[0m\u001b[0mpyplot\u001b[0m \u001b[1;32mas\u001b[0m \u001b[0mplt\u001b[0m\u001b[1;33m\u001b[0m\u001b[1;33m\u001b[0m\u001b[0m\n\u001b[1;32m----> 3\u001b[1;33m \u001b[1;32mfrom\u001b[0m \u001b[0mscipy\u001b[0m\u001b[1;33m.\u001b[0m\u001b[0msparse\u001b[0m \u001b[1;32mimport\u001b[0m \u001b[0mlil_matrix\u001b[0m\u001b[1;33m\u001b[0m\u001b[1;33m\u001b[0m\u001b[0m\n\u001b[0m\u001b[0;32m      4\u001b[0m \u001b[1;32mfrom\u001b[0m \u001b[0mscipy\u001b[0m\u001b[1;33m.\u001b[0m\u001b[0msparse\u001b[0m\u001b[1;33m.\u001b[0m\u001b[0mlinalg\u001b[0m \u001b[1;32mimport\u001b[0m \u001b[0mlsqr\u001b[0m\u001b[1;33m\u001b[0m\u001b[1;33m\u001b[0m\u001b[0m\n",
      "\u001b[1;31mModuleNotFoundError\u001b[0m: No module named 'scipy'"
     ]
    }
   ],
   "source": [
    "from numpy import array, zeros, zeros_like,reshape, loadtxt, absolute, sqrt, sum, clip, absolute\n",
    "import matplotlib.pyplot as plt\n",
    "from scipy.sparse import lil_matrix\n",
    "from scipy.sparse.linalg import lsqr"
   ]
  },
  {
   "cell_type": "markdown",
   "metadata": {
    "deletable": false,
    "editable": false,
    "nbgrader": {
     "cell_type": "markdown",
     "checksum": "6a6b3c88df86cda57dd32fdc0c453f92",
     "grade": false,
     "grade_id": "cell-0bac86d7fcac8efc",
     "locked": true,
     "schema_version": 3,
     "solution": false,
     "task": false
    }
   },
   "source": [
    "## Learning objectives\n",
    "1. Formulating a least squares system that includes an augmentation-based regularization term.\n",
    "2. Reconstruct a smooth image using a noisy pixel and gradient estimates.\n",
    "3. Working with a third party least squares solver tailored to sparse matrix representations."
   ]
  },
  {
   "cell_type": "markdown",
   "metadata": {
    "deletable": false,
    "editable": false,
    "nbgrader": {
     "cell_type": "markdown",
     "checksum": "0adadc695b01ed4bb1dab27d49635303",
     "grade": false,
     "grade_id": "cell-b4280d24667dc56b",
     "locked": true,
     "schema_version": 3,
     "solution": false,
     "task": false
    }
   },
   "source": [
    "\n",
    "## Loading the data\n",
    "\n",
    "We provide four (4) CSV files with entries corresponding to the grayscale image values:\n",
    "* `truthi.csv` -- ground truth image (for reference),\n",
    "* `noisei.csv` -- noisy image pixel intensities,\n",
    "* `noisex.csv` -- noisy image pixel horizontal gradient, and\n",
    "* `noisey.csv` -- noisy image pixel vertical gradient.\n",
    "\n",
    "<div class=\"alert alert-info\" role=\"alert\">\n",
    "    <b>Run</b>  the cell bellow to create <i>numpy</i> matrices containing the three (3) input images' data.\n",
    "</div>"
   ]
  },
  {
   "cell_type": "code",
   "execution_count": null,
   "metadata": {
    "deletable": false,
    "editable": false,
    "nbgrader": {
     "cell_type": "code",
     "checksum": "f86b2b56ba8824daf7448a7137b18430",
     "grade": false,
     "grade_id": "cell-50b367678864593e",
     "locked": true,
     "schema_version": 3,
     "solution": false,
     "task": false
    }
   },
   "outputs": [],
   "source": [
    "# Load image data, using [2:-2,2:-2] to clp the image boundaries (where gradients are not well defined)\n",
    "X_0 = clip(loadtxt('noisei.csv', delimiter=',')[2:-2,2:-2],0,1)\n",
    "X_dx = clip(loadtxt('noisex.csv', delimiter=',')[2:-2,2:-2],-2,2)\n",
    "X_dy = clip(loadtxt('noisey.csv', delimiter=',')[2:-2,2:-2],-2,2)\n",
    "X_t = clip(loadtxt('truthi.csv', delimiter=',')[2:-2,2:-2],0,1)\n",
    "\n",
    "\n",
    "fig, axes = plt.subplots(nrows=2, ncols=2, num=6, figsize=(15,15))\n",
    "axes[0,0].imshow(X_0, origin='upper', cmap='gray', vmin=0, vmax=1)\n",
    "axes[0,0].axis('off')\n",
    "axes[0,0].set_title('Noisy image input')\n",
    "\n",
    "axes[0,1].imshow(X_t, origin='upper', cmap='gray', vmin=0, vmax=1)\n",
    "axes[0,1].axis('off')\n",
    "axes[0,1].set_title('Ground truth image')\n",
    "\n",
    "axes[1,0].imshow(X_dx, origin='upper', cmap='gray')\n",
    "axes[1,0].axis('off')\n",
    "axes[1,0].set_title('Noisy horizontal gradient input')\n",
    "\n",
    "axes[1,1].imshow(X_dy, origin='upper', cmap='gray')\n",
    "axes[1,1].axis('off')\n",
    "axes[1,1].set_title('Noisy vertical gradient input')\n",
    "\n",
    "\n",
    "fig.tight_layout()\n",
    "plt.show()\n"
   ]
  },
  {
   "cell_type": "markdown",
   "metadata": {
    "deletable": false,
    "editable": false,
    "nbgrader": {
     "cell_type": "markdown",
     "checksum": "3ecb6c735ba29187b5d7348ba3184ebd",
     "grade": false,
     "grade_id": "cell-5f94d3375d169e6f",
     "locked": true,
     "schema_version": 3,
     "solution": false,
     "task": false
    }
   },
   "source": [
    "## Regularized Image Reconstruction [30%] \n",
    "\n",
    "We formulate the problem of reconstructing a noise-free image -- given a noisy image and noisy horizontal and vertical image gradients -- as a solution to the following minimization problem:\n",
    "$$\n",
    "\\argmin{\\mathbf{X}} \\left(\\normsq{\\mathbf{X} - \\mathbf{X}_0} + \\mu\\left(\\normsq{ \\mathbf{D}_{\\partial x} \\mathbf{X} - \\mathbf{X}_{\\partial x} } + \\normsq{ \\mathbf{D}_{\\partial y} \\mathbf{X} - \\mathbf{X}_{\\partial y} }\\right) \\right)\n",
    "~.$$\n",
    "\n",
    "Here, $\\mathbf{X}_0$ is the input noisy image (stored as a matrix), $\\mathbf{X}_{\\partial x}$ and $\\mathbf{X}_{\\partial y}$ are the noisy input image gradients (similarly stored in matrices), $\\mathbf{D}_{\\partial x}$ and $\\mathbf{D}_{\\partial y}$ are the horizontal and vertical finite difference operators, $\\mu$ is a regularization factor, and the output we seek is $\\mathbf{X}$.\n",
    "\n",
    "\n",
    "While it may seem natural to represent input and output images with matrices, we will instead \"vectorize\" the images by linearizing their double indices $(i,j)$ to a single vector index $k = i \\times n + j$, where $n$ is the image width. The resulting input and output __vectors__ are named analogously to their matrix counterparts: $\\bfx$, $\\bfx_0$, $\\bfx_{\\partial x}$ and $\\bfx_{\\partial y}$.\n",
    "\n",
    "As such, we can re-write our regularized least-squares problem as:\n",
    "$$\n",
    "\\argmin{\\bfx}\\left(\\normsq{\\bfx - \\bfx_0 } + \\mu\\left(\\normsq{ \\mathbf{D}_{\\partial x} \\bfx - \\bfx_x } + \\normsq{\\mathbf{D}_{\\partial y} \\bfx - \\bfx_y }\\right)\\right)~.\n",
    "$$\n",
    "\n",
    "<div class=\"alert alert-warning\" role=\"alert\"> \n",
    "     Note that -- after linearizing matrix indices -- the form of $\\mathbf{D}_{\\partial x}$ and $\\mathbf{D}_{\\partial y}$ changes to explicitly map, e.g., matrix coordinates $(i,j)$ of $\\mathbf{X}$ to the appropriate vector indices $i \\times n + j$ of $\\bfx$ _in tandem to_ performing their appropriate finite differencing operation.\n",
    "</div>\n",
    "\n",
    "<div class=\"alert alert-success\" role=\"alert\"> \n",
    "Here are examples of what the operators $\\mathbf{D}_{\\partial x}$ and $\\mathbf{D}_{\\partial y}$ would look like for a $2 \\times 3$ vectorized input image. Specifically, the input image is vectorized to a single 6-D vector with single index $k = i \\times n + j$. <b>We assume 0-indexing, below</b>:\n",
    "    $$\n",
    "    \\mathbf{D}_{\\partial x}\\bfx = \\begin{bmatrix}\n",
    "\t-1 & 1 & 0 & 0 & 0 & 0 \\\\\n",
    "\t0 & -1 & 1 & 0 & 0 & 0 \\\\\n",
    "\t0 & 0 & 0 & -1 & 1 & 0 \\\\\n",
    "\t0 & 0 & 0 & 0 & -1 & 1\n",
    "    \\end{bmatrix}\n",
    "    \\begin{bmatrix}\n",
    "\tx_{00} \\\\ x_{01} \\\\ x_{02} \\\\ x_{10} \\\\ x_{11}\\\\ x_{12} \n",
    "    \\end{bmatrix}\n",
    "    :=\n",
    "    \\begin{bmatrix}\n",
    "\tx_{01} - x_{00} \\\\ \tx_{02} - x_{01} \\\\ x_{11} - x_{10} \\\\ \tx_{12} - x_{11}\n",
    "    \\end{bmatrix}\n",
    "    \\approx\n",
    "    \\begin{bmatrix}\n",
    "\t\\Delta_x x_{00} \\\\ \t\\Delta_x x_{01}  \\\\ \\Delta_x x_{10}  \\\\ \\Delta_x x_{11}\n",
    "    \\end{bmatrix}\n",
    "    $$\n",
    "    $$\n",
    "\t\\mathbf{D}_{\\partial y} \\bfx= \\begin{bmatrix}\n",
    "\t-1 & 0 & 0 & 1 & 0 & 0 \\\\\n",
    "\t0 & -1 & 0 & 0 & 1 & 0 \\\\\n",
    "\t0 & 0 & -1 & 0 & 0 & 1\n",
    "    \\end{bmatrix}\n",
    "    \\begin{bmatrix}\n",
    "\tx_{00} \\\\ x_{01} \\\\ x_{02} \\\\ x_{10} \\\\ x_{11}\\\\ x_{12} \n",
    "    \\end{bmatrix}\n",
    "    = \n",
    "    \\begin{bmatrix}\n",
    "\tx_{10} - x_{00}  \\\\ x_{11} - x_{01} \\\\ x_{12} - x_{02} \n",
    "    \\end{bmatrix}\n",
    "    :=\n",
    "    \\begin{bmatrix}\n",
    "\t\\Delta_y x_{00} \\\\ \t\\Delta_y x_{01}  \\\\ \\Delta_y x_{02} \n",
    "    \\end{bmatrix}\n",
    "    $$\n",
    "    where $\\Delta_x$ and $\\Delta_y$ are the horizontal and vertical finite \n",
    "    differences approximation of the gradient at a given pixel.\n",
    "    For a general $m \\times n$ image, $\\mathbf{D}_{\\partial x}$ will be of size $(mn - m) \\times mn$ and $\\mathbf{D}_{\\partial y}$ of size $(mn - n) \\times mn$. Here, rows correspond to finite difference constraints\n",
    "    and columns to the appropriate vectorized image coordinates.\n",
    "\n",
    "</div>\n",
    "\n",
    "  \n",
    "To solve this regularized least squares problem, we need to express our (vectorized) minimization problem as a squared-residual term in matrix-vector form. After some algebraic manipulation, we arrive at:\n",
    "$$\n",
    "\\begin{align}\n",
    "& \\normsq{\\bfx - \\bfx_0 } + \\mu\\left(\\normsq{ \\mathbf{D}_{\\partial x} \\bfx - \\bfx_x } + \\normsq{\\mathbf{D}_{\\partial y} \\bfx - \\bfx_y }\\right) \\\\\n",
    "& =\n",
    "\\normsq{\\begin{bmatrix}\n",
    "\\bfx - \\bfx_0  \\\\\n",
    "\\sqrt{\\mu} (\\mathbf{D}_{\\partial x} \\bfx - \\bfx_x)  \\\\ \n",
    "\\sqrt{\\mu} (\\mathbf{D}_{\\partial y} \\bfx - \\bfx_y)  \n",
    "\\end{bmatrix}\n",
    "} \\\\\n",
    "& = \n",
    "\\normsq{\n",
    "\\begin{bmatrix}\n",
    "\\mathbf{I} \\\\\n",
    "\\sqrt{\\mu} \\mathbf{D}_{\\partial x}  \\\\ \n",
    "\\sqrt{\\mu} \\mathbf{D}_{\\partial y}\n",
    "\\end{bmatrix}\\bfx \n",
    "-\n",
    "\\begin{bmatrix}\n",
    "\\bfx_0  \\\\\n",
    "\\sqrt{\\mu} \\bfx_x  \\\\ \n",
    "\\sqrt{\\mu} \\bfx_y  \n",
    "\\end{bmatrix}\n",
    "} \\\\\n",
    "& := \n",
    "\\normsq{\\mathbf{A}\\bfx - \\bfb}\n",
    "\\end{align}\n",
    "$$\n",
    "\n",
    "While you may be tempted to use one of your own solvers (don't let us stop you, after the fact!), the system above warrants the use of a more engineered, third party algorithm: $\\mathbf{A}$ is large and sparse. The combination of these two properties would render using any of your solvers much more challenging -- at least in their vanilla form.\n",
    "\n",
    "<div class=\"alert alert-info\" role=\"alert\"> \n",
    "    <b style=\"color:green;\">&#9745;</b> Complete the implementation of a function that takes the noisy data as input and returns a denoised output image as the solution to the regularized linear least square problem above, in the cell below:\n",
    "</div>\n",
    "\n",
    "<div class=\"alert alert-success\" role=\"alert\"> \n",
    "    Use the `lil_matrix` function to initialize $\\mathbf{A}$ in a manner that enables underlying <b>sparse matrix</b> operations. \n",
    "</div>"
   ]
  },
  {
   "cell_type": "code",
   "execution_count": 484,
   "metadata": {
    "deletable": false,
    "nbgrader": {
     "cell_type": "code",
     "checksum": "fa1d449580e287e3743375d944dcf57b",
     "grade": false,
     "grade_id": "cell-6fda56f2f54aabc9",
     "locked": false,
     "schema_version": 3,
     "solution": true,
     "task": false
    }
   },
   "outputs": [],
   "source": [
    "def imageReconsLS(X_0, X_dx, X_dy, mu = 10.):\n",
    "    \"\"\"\n",
    "    Use a built-in linear least squares solver that leverages sparse matrix representations to find the best fit solution of the image reconstruction problem\n",
    "\n",
    "    Parameters: \n",
    "    X_0 (np.array(m, n)): Noisy image estimate\n",
    "    X_dx (np.array(m, n)): Noisy horizontal gradient of the image\n",
    "    X_dy (np.array(m, n)): Noisy vertical gradient estimate of the image\n",
    "    mu (float): regularization parameter\n",
    "\n",
    "    Returns: \n",
    "    X_mu (np.array(m, n)): least squares solution of A X_mu = b\n",
    "    \"\"\"\n",
    "    \n",
    "    \n",
    "    # Store the dimensions of X_0\n",
    "    m, n = X_0.shape;\n",
    "    mn = m * n\n",
    "    \n",
    "    # Initialize our output reconstructed image X_mu\n",
    "    X_mu = zeros_like(X_0)\n",
    "    \n",
    "    # mu must be greater or equal to 0\n",
    "    if mu < 0:\n",
    "        raise Exception(\"Negative regularization is not a good idea!\")\n",
    "    \n",
    "    # Function that maps an m x n matrix index to an (m*n) x 1 vector index\n",
    "    # Use this to populate A\n",
    "    mat2vec = lambda i, j : n*i + j\n",
    "    \n",
    "    # Initialize A with lil_matrix and b\n",
    "    # \n",
    "    #   regularization constraints have size mn * mn\n",
    "    #   horizontal gradient constraints have size (mn - m) * mn\n",
    "    #   vertical gradient constraints have size (mn - n) * mn\n",
    "    #   total number of constraints are (3mn - m - n) * mn\n",
    "    \n",
    "    # Initialization goes here\n",
    "    \n",
    "    # Loop over all the pixels to fill A and b\n",
    "    # Don't forget to keep track of the number of constraints\n",
    "    \n",
    "    #Loop over rows\n",
    "        #Loop over columns\n",
    "                                   \n",
    "            # Add noisy image constraints \n",
    "            # in matrix form, these constraints correspond to: \n",
    "            # X_mu[i, j] =  X_0[i,j]\n",
    "\n",
    "            # Vertical gradient, if i < m - 1 \n",
    "            # in matrix form, these constraints correspond to: \n",
    "            # mu (X_mu[i+1,j] -  X_mu[i,j])  = mu X_dy[i, j]\n",
    "   \n",
    "            # Horizontal gradient, if j < n - 1 \n",
    "            # in matrix form, these constraints correspond to: \n",
    "            # mu (X_mu[i, j+1] -  X_mu[i, j]) = mu X_dx[i, j]\n",
    "    \n",
    "    # YOUR CODE HERE\n",
    "    # raise NotImplementedError()\n",
    "    \n",
    "    I = identity(mn)\n",
    "    Ddelx = zeros((mn-m, mn))\n",
    "    Ddely = zeros((mn-n, mn))\n",
    "    x_mu = zeros((mn,1))\n",
    "    x_mux = zeros((mn,1))\n",
    "    x_muy = zeros((mn,1))\n",
    "    k = zeros(m)\n",
    "    A = zeros(((3*mn - m - n), mn))\n",
    "    b = zeros(((3*mn - m - n), 1))\n",
    "    \n",
    "    for i in range(m):\n",
    "        for j in range(n):\n",
    "                k = mat2vec(i, j)\n",
    "                x_mu[k] = X_0[i, j]\n",
    "                x_mux[k] = X_dx[i,j]\n",
    "                x_muy[k] = X_dy[i, j]\n",
    "    \n",
    "    #Incomplete, unsure how to proceed further\n",
    "                \n",
    "                \n",
    "    # Solve with a built-in least squares solver\n",
    "    a, istop, itn, r1norm = lsqr(A, b)[:4]\n",
    "\n",
    "    # Reshape the resulting vector solution into the 2D output image resolution\n",
    "    X_mu = reshape(a, (m, n))\n",
    "\n",
    "    return X_mu"
   ]
  },
  {
   "cell_type": "markdown",
   "metadata": {
    "deletable": false,
    "editable": false,
    "nbgrader": {
     "cell_type": "markdown",
     "checksum": "452d1e501c863216bb73bb3930f6132c",
     "grade": false,
     "grade_id": "cell-debf3569ecbcb9bf",
     "locked": true,
     "schema_version": 3,
     "solution": false,
     "task": false
    }
   },
   "source": [
    "<div class=\"alert alert-info\" role=\"alert\">\n",
    "    <b>Run</b>  the following cell to test your solution.\n",
    "</div>"
   ]
  },
  {
   "cell_type": "code",
   "execution_count": 485,
   "metadata": {
    "deletable": false,
    "editable": false,
    "nbgrader": {
     "cell_type": "code",
     "checksum": "1ebdc12924a4bce2113c6976a330ef6b",
     "grade": true,
     "grade_id": "cell-c1da2dd194a0003a",
     "locked": true,
     "points": 30,
     "schema_version": 3,
     "solution": false,
     "task": false
    }
   },
   "outputs": [
    {
     "ename": "NameError",
     "evalue": "name 'lsqr' is not defined",
     "output_type": "error",
     "traceback": [
      "\u001b[1;31m---------------------------------------------------------------------------\u001b[0m",
      "\u001b[1;31mNameError\u001b[0m                                 Traceback (most recent call last)",
      "\u001b[1;32m<ipython-input-485-81a31247685d>\u001b[0m in \u001b[0;36m<module>\u001b[1;34m\u001b[0m\n\u001b[0;32m      1\u001b[0m \u001b[0mmu\u001b[0m \u001b[1;33m=\u001b[0m \u001b[1;36m10.\u001b[0m\u001b[1;33m\u001b[0m\u001b[1;33m\u001b[0m\u001b[0m\n\u001b[1;32m----> 2\u001b[1;33m \u001b[0mX_mu\u001b[0m \u001b[1;33m=\u001b[0m \u001b[0mimageReconsLS\u001b[0m\u001b[1;33m(\u001b[0m\u001b[0mX_0\u001b[0m\u001b[1;33m,\u001b[0m \u001b[0mX_dx\u001b[0m\u001b[1;33m,\u001b[0m \u001b[0mX_dy\u001b[0m\u001b[1;33m,\u001b[0m \u001b[0mmu\u001b[0m\u001b[1;33m)\u001b[0m\u001b[1;33m\u001b[0m\u001b[1;33m\u001b[0m\u001b[0m\n\u001b[0m\u001b[0;32m      3\u001b[0m \u001b[1;33m\u001b[0m\u001b[0m\n\u001b[0;32m      4\u001b[0m \u001b[0mfig\u001b[0m\u001b[1;33m,\u001b[0m \u001b[0maxes\u001b[0m \u001b[1;33m=\u001b[0m \u001b[0mplt\u001b[0m\u001b[1;33m.\u001b[0m\u001b[0msubplots\u001b[0m\u001b[1;33m(\u001b[0m\u001b[0mnrows\u001b[0m\u001b[1;33m=\u001b[0m\u001b[1;36m1\u001b[0m\u001b[1;33m,\u001b[0m \u001b[0mncols\u001b[0m\u001b[1;33m=\u001b[0m\u001b[1;36m2\u001b[0m\u001b[1;33m,\u001b[0m \u001b[0mnum\u001b[0m\u001b[1;33m=\u001b[0m\u001b[1;36m7\u001b[0m\u001b[1;33m,\u001b[0m \u001b[0mfigsize\u001b[0m\u001b[1;33m=\u001b[0m\u001b[1;33m(\u001b[0m\u001b[1;36m15\u001b[0m\u001b[1;33m,\u001b[0m\u001b[1;36m15\u001b[0m\u001b[1;33m)\u001b[0m\u001b[1;33m)\u001b[0m\u001b[1;33m\u001b[0m\u001b[1;33m\u001b[0m\u001b[0m\n\u001b[0;32m      5\u001b[0m \u001b[0maxes\u001b[0m\u001b[1;33m[\u001b[0m\u001b[1;36m0\u001b[0m\u001b[1;33m]\u001b[0m\u001b[1;33m.\u001b[0m\u001b[0mimshow\u001b[0m\u001b[1;33m(\u001b[0m\u001b[0mX_mu\u001b[0m\u001b[1;33m,\u001b[0m \u001b[0morigin\u001b[0m\u001b[1;33m=\u001b[0m\u001b[1;34m'upper'\u001b[0m\u001b[1;33m,\u001b[0m \u001b[0mcmap\u001b[0m\u001b[1;33m=\u001b[0m\u001b[1;34m'gray'\u001b[0m\u001b[1;33m,\u001b[0m \u001b[0mvmin\u001b[0m\u001b[1;33m=\u001b[0m\u001b[1;36m0\u001b[0m\u001b[1;33m,\u001b[0m \u001b[0mvmax\u001b[0m\u001b[1;33m=\u001b[0m\u001b[1;36m1\u001b[0m\u001b[1;33m)\u001b[0m\u001b[1;33m\u001b[0m\u001b[1;33m\u001b[0m\u001b[0m\n",
      "\u001b[1;32m<ipython-input-484-c69d81f74ba0>\u001b[0m in \u001b[0;36mimageReconsLS\u001b[1;34m(X_0, X_dx, X_dy, mu)\u001b[0m\n\u001b[0;32m     80\u001b[0m \u001b[1;33m\u001b[0m\u001b[0m\n\u001b[0;32m     81\u001b[0m     \u001b[1;31m# Solve with a built-in least squares solver\u001b[0m\u001b[1;33m\u001b[0m\u001b[1;33m\u001b[0m\u001b[1;33m\u001b[0m\u001b[0m\n\u001b[1;32m---> 82\u001b[1;33m     \u001b[0ma\u001b[0m\u001b[1;33m,\u001b[0m \u001b[0mistop\u001b[0m\u001b[1;33m,\u001b[0m \u001b[0mitn\u001b[0m\u001b[1;33m,\u001b[0m \u001b[0mr1norm\u001b[0m \u001b[1;33m=\u001b[0m \u001b[0mlsqr\u001b[0m\u001b[1;33m(\u001b[0m\u001b[0mA\u001b[0m\u001b[1;33m,\u001b[0m \u001b[0mb\u001b[0m\u001b[1;33m)\u001b[0m\u001b[1;33m[\u001b[0m\u001b[1;33m:\u001b[0m\u001b[1;36m4\u001b[0m\u001b[1;33m]\u001b[0m\u001b[1;33m\u001b[0m\u001b[1;33m\u001b[0m\u001b[0m\n\u001b[0m\u001b[0;32m     83\u001b[0m \u001b[1;33m\u001b[0m\u001b[0m\n\u001b[0;32m     84\u001b[0m     \u001b[1;31m# Reshape the resulting vector solution into the 2D output image resolution\u001b[0m\u001b[1;33m\u001b[0m\u001b[1;33m\u001b[0m\u001b[1;33m\u001b[0m\u001b[0m\n",
      "\u001b[1;31mNameError\u001b[0m: name 'lsqr' is not defined"
     ]
    }
   ],
   "source": [
    "mu = 10.\n",
    "X_mu = imageReconsLS(X_0, X_dx, X_dy, mu)\n",
    "\n",
    "fig, axes = plt.subplots(nrows=1, ncols=2, num=7, figsize=(15,15))\n",
    "axes[0].imshow(X_mu, origin='upper', cmap='gray', vmin=0, vmax=1)\n",
    "axes[0].axis('off')\n",
    "axes[0].set_title('$X_\\mu$ with $\\mu = ${}'.format(mu))\n",
    "\n",
    "axes[1].imshow(X_t, origin='upper', cmap='gray', vmin=0, vmax=1)\n",
    "axes[1].axis('off')\n",
    "axes[1].set_title('Ground truth')"
   ]
  },
  {
   "cell_type": "markdown",
   "metadata": {
    "deletable": false,
    "editable": false,
    "nbgrader": {
     "cell_type": "markdown",
     "checksum": "502b329350064039436e19aea2abe20e",
     "grade": false,
     "grade_id": "cell-3eeaf3f57726c405",
     "locked": true,
     "schema_version": 3,
     "solution": false,
     "task": false
    }
   },
   "source": [
    "<div class=\"alert alert-info\" role=\"alert\">\n",
    "    <b>Run</b> the following cell to test the behaviour of your solution for different values of the regularization coefficient $\\mu$. Try to guess what will happen before running the cell...\n",
    "</div>"
   ]
  },
  {
   "cell_type": "code",
   "execution_count": null,
   "metadata": {
    "deletable": false,
    "editable": false,
    "nbgrader": {
     "cell_type": "code",
     "checksum": "64e6afbae415a7b5274ba9281e485280",
     "grade": false,
     "grade_id": "cell-2f2428da9318d5f7",
     "locked": true,
     "schema_version": 3,
     "solution": false,
     "task": false
    }
   },
   "outputs": [],
   "source": [
    "mus = [0.,1.,10.]\n",
    "fig, axes = plt.subplots(nrows=len(mus), ncols=2, num=7, figsize=(15,25))\n",
    "\n",
    "for i, mu in enumerate(mus):\n",
    "    X_mu = imageReconsLS(X_0, X_dx, X_dy, mu)\n",
    "    axes[i,0].imshow(X_mu, origin='upper', cmap='gray', vmin=0, vmax=1)\n",
    "    axes[i,0].axis('off')\n",
    "    axes[i,0].set_title('$X_\\mu$ with $\\mu = ${}'.format(mu))\n",
    "\n",
    "    axes[i,1].imshow(X_t, origin='upper', cmap='gray', vmin=0, vmax=1)\n",
    "    axes[i,1].axis('off')\n",
    "    axes[i,1].set_title('Ground truth')\n",
    "\n",
    "fig.tight_layout()\n",
    "plt.show()"
   ]
  }
 ],
 "metadata": {
  "colab": {
   "collapsed_sections": [],
   "name": "ECSE443_A1.ipynb",
   "provenance": [],
   "toc_visible": true
  },
  "kernelspec": {
   "display_name": "Python 3",
   "language": "python",
   "name": "python3"
  },
  "language_info": {
   "codemirror_mode": {
    "name": "ipython",
    "version": 3
   },
   "file_extension": ".py",
   "mimetype": "text/x-python",
   "name": "python",
   "nbconvert_exporter": "python",
   "pygments_lexer": "ipython3",
   "version": "3.7.6"
  }
 },
 "nbformat": 4,
 "nbformat_minor": 1
}
